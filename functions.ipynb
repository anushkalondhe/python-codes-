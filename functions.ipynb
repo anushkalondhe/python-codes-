{
 "cells": [
  {
   "cell_type": "code",
   "execution_count": 1,
   "id": "8a3da560-92ec-4eb4-8c51-3c6f7a76fd25",
   "metadata": {},
   "outputs": [],
   "source": [
    "def show():\n",
    "    print('hello')\n",
    "    print(99)\n",
    "    print('by')"
   ]
  },
  {
   "cell_type": "code",
   "execution_count": 2,
   "id": "f2a2c10f-7efe-4abb-b936-4514df149c99",
   "metadata": {},
   "outputs": [
    {
     "name": "stdout",
     "output_type": "stream",
     "text": [
      "hello\n",
      "99\n",
      "by\n"
     ]
    }
   ],
   "source": [
    "show()"
   ]
  },
  {
   "cell_type": "code",
   "execution_count": 3,
   "id": "0d00edcf-a771-44cc-9f96-111f5b8e8eac",
   "metadata": {},
   "outputs": [],
   "source": [
    "# parametrized fn\n",
    "\n",
    "def square(n):\n",
    "    result=n*n\n",
    "    print(result)"
   ]
  },
  {
   "cell_type": "code",
   "execution_count": 4,
   "id": "deab6db7-91bd-461e-8272-6c9cdabe8a1a",
   "metadata": {},
   "outputs": [
    {
     "name": "stdout",
     "output_type": "stream",
     "text": [
      "16\n"
     ]
    }
   ],
   "source": [
    "square(4)"
   ]
  },
  {
   "cell_type": "code",
   "execution_count": 5,
   "id": "b7cdbd86-853c-4829-8337-6bbd24672356",
   "metadata": {},
   "outputs": [
    {
     "name": "stdin",
     "output_type": "stream",
     "text": [
      "enter a number 2\n"
     ]
    },
    {
     "name": "stdout",
     "output_type": "stream",
     "text": [
      "4\n"
     ]
    }
   ],
   "source": [
    "num=int (input('enter a number'))\n",
    "square(num)"
   ]
  },
  {
   "cell_type": "code",
   "execution_count": 2,
   "id": "0c8247c6-0598-46ad-b4c4-0c42035368c0",
   "metadata": {},
   "outputs": [],
   "source": [
    "# multiple para. fn\n",
    "\n",
    "def largest (a,b):\n",
    "    if a>b:\n",
    "        print(a)\n",
    "    elif a==b:\n",
    "        print('equal')\n",
    "    else:\n",
    "        print(b)"
   ]
  },
  {
   "cell_type": "code",
   "execution_count": 3,
   "id": "120dc9da-5f72-45e6-9416-2e1f4e3a05bb",
   "metadata": {},
   "outputs": [
    {
     "name": "stdout",
     "output_type": "stream",
     "text": [
      "equal\n"
     ]
    }
   ],
   "source": [
    "largest(2,2)"
   ]
  },
  {
   "cell_type": "code",
   "execution_count": 64,
   "id": "c312305e-46b2-4dbc-a6ef-691996a601fd",
   "metadata": {},
   "outputs": [],
   "source": [
    "#fn for factorial\n",
    "\n",
    "def fact(n):\n",
    "    fact=1\n",
    "    for i in range (1,n+1):\n",
    "        fact=fact*i\n",
    "    print('factorial',fact)"
   ]
  },
  {
   "cell_type": "code",
   "execution_count": 65,
   "id": "0094d28d-e68b-49a4-b95e-43fca3944d7d",
   "metadata": {},
   "outputs": [
    {
     "name": "stdout",
     "output_type": "stream",
     "text": [
      "factorial 120\n"
     ]
    }
   ],
   "source": [
    "fact(5)"
   ]
  },
  {
   "cell_type": "code",
   "execution_count": 32,
   "id": "9a7fc97e-a938-446a-95f3-a8f090b6beb4",
   "metadata": {},
   "outputs": [],
   "source": [
    "#fn for returning value\n",
    "\n",
    "\n",
    "def square(n):\n",
    "    result=n*n\n",
    "    return result"
   ]
  },
  {
   "cell_type": "code",
   "execution_count": 33,
   "id": "0ef23942-cbba-418c-a4fd-fa2d103c849d",
   "metadata": {},
   "outputs": [
    {
     "data": {
      "text/plain": [
       "25"
      ]
     },
     "execution_count": 33,
     "metadata": {},
     "output_type": "execute_result"
    }
   ],
   "source": [
    "square(5)"
   ]
  },
  {
   "cell_type": "code",
   "execution_count": 34,
   "id": "c4eb36ca-4850-4546-ade1-e52d626ddd70",
   "metadata": {},
   "outputs": [],
   "source": [
    "# diff btwn return and print"
   ]
  },
  {
   "cell_type": "code",
   "execution_count": 39,
   "id": "9c31e6fd-f46f-447f-9377-fbb2cb3b57bb",
   "metadata": {},
   "outputs": [
    {
     "name": "stdout",
     "output_type": "stream",
     "text": [
      "11\n",
      "None\n",
      "11\n",
      "result None\n"
     ]
    }
   ],
   "source": [
    "def add(a,b):\n",
    "    result=a+b\n",
    "    print(result)\n",
    "\n",
    "print(add(5,6))\n",
    "op=add(5,6)\n",
    "\n",
    "print('result',op)"
   ]
  },
  {
   "cell_type": "code",
   "execution_count": 42,
   "id": "5eaff6b7-2406-4879-917e-1626c9e9a054",
   "metadata": {},
   "outputs": [],
   "source": [
    "def largest (a,b):\n",
    "    if a>b:\n",
    "        return a \n",
    "    elif a==b:\n",
    "        return 'equal'\n",
    "    else:\n",
    "        return b"
   ]
  },
  {
   "cell_type": "code",
   "execution_count": 44,
   "id": "72f72b74-14dc-4ff9-a847-8bb1a7a61973",
   "metadata": {},
   "outputs": [
    {
     "data": {
      "text/plain": [
       "'equal'"
      ]
     },
     "execution_count": 44,
     "metadata": {},
     "output_type": "execute_result"
    }
   ],
   "source": [
    "largest(56,56)"
   ]
  },
  {
   "cell_type": "code",
   "execution_count": 46,
   "id": "6666ffb2-e5ed-48eb-881e-b93054d6618a",
   "metadata": {},
   "outputs": [],
   "source": [
    "# perm and comb\n",
    "# ncr=n!/r!n(n-r)!"
   ]
  },
  {
   "cell_type": "code",
   "execution_count": 66,
   "id": "5c0c6965-14a0-4ef1-94e2-bc6dd649e976",
   "metadata": {},
   "outputs": [
    {
     "name": "stdin",
     "output_type": "stream",
     "text": [
      "total: 10\n",
      "combination of: 3\n"
     ]
    },
    {
     "name": "stdout",
     "output_type": "stream",
     "text": [
      "factorial 3628800\n",
      "factorial 6\n",
      "factorial 5040\n"
     ]
    },
    {
     "ename": "TypeError",
     "evalue": "unsupported operand type(s) for *: 'NoneType' and 'NoneType'",
     "output_type": "error",
     "traceback": [
      "\u001b[1;31m---------------------------------------------------------------------------\u001b[0m",
      "\u001b[1;31mTypeError\u001b[0m                                 Traceback (most recent call last)",
      "Cell \u001b[1;32mIn[66], line 4\u001b[0m\n\u001b[0;32m      1\u001b[0m n\u001b[38;5;241m=\u001b[39m\u001b[38;5;28mint\u001b[39m(\u001b[38;5;28minput\u001b[39m(\u001b[38;5;124m'\u001b[39m\u001b[38;5;124mtotal:\u001b[39m\u001b[38;5;124m'\u001b[39m))\n\u001b[0;32m      2\u001b[0m r\u001b[38;5;241m=\u001b[39m\u001b[38;5;28mint\u001b[39m(\u001b[38;5;28minput\u001b[39m(\u001b[38;5;124m'\u001b[39m\u001b[38;5;124mcombination of:\u001b[39m\u001b[38;5;124m'\u001b[39m))\n\u001b[1;32m----> 4\u001b[0m ncr\u001b[38;5;241m=\u001b[39mfact(n) \u001b[38;5;241m/\u001b[39m (fact(r) \u001b[38;5;241m*\u001b[39m fact(n\u001b[38;5;241m-\u001b[39mr))\n\u001b[0;32m      5\u001b[0m \u001b[38;5;28mprint\u001b[39m(ncr)\n",
      "\u001b[1;31mTypeError\u001b[0m: unsupported operand type(s) for *: 'NoneType' and 'NoneType'"
     ]
    }
   ],
   "source": [
    "n=int(input('total:'))\n",
    "r=int(input('combination of:'))\n",
    "\n",
    "ncr=fact(n) / (fact(r) * fact(n-r))\n",
    "print(ncr)"
   ]
  },
  {
   "cell_type": "code",
   "execution_count": 67,
   "id": "3199aaa1-5f5b-4841-877d-c588491da1b7",
   "metadata": {},
   "outputs": [],
   "source": [
    "def cal(n):\n",
    "    sq=n*n\n",
    "    cu=n**3\n",
    "    return sq,cu"
   ]
  },
  {
   "cell_type": "code",
   "execution_count": 68,
   "id": "08161b27-7af2-4c96-8c51-96d713e97801",
   "metadata": {},
   "outputs": [
    {
     "data": {
      "text/plain": [
       "(16, 64)"
      ]
     },
     "execution_count": 68,
     "metadata": {},
     "output_type": "execute_result"
    }
   ],
   "source": [
    "cal(4)"
   ]
  },
  {
   "cell_type": "code",
   "execution_count": 69,
   "id": "d3739acc-a693-49df-a362-8a92070d903a",
   "metadata": {},
   "outputs": [
    {
     "data": {
      "text/plain": [
       "(4, 8)"
      ]
     },
     "execution_count": 69,
     "metadata": {},
     "output_type": "execute_result"
    }
   ],
   "source": [
    "cal(2)"
   ]
  },
  {
   "cell_type": "code",
   "execution_count": 71,
   "id": "ed48ca83-47f2-428d-8df3-abbf11406be1",
   "metadata": {},
   "outputs": [
    {
     "name": "stdin",
     "output_type": "stream",
     "text": [
      "enter number: 2\n"
     ]
    },
    {
     "name": "stdout",
     "output_type": "stream",
     "text": [
      "square: 4\n",
      "cube: 8\n"
     ]
    }
   ],
   "source": [
    "n=int(input('enter number:'))\n",
    "x,y=cal(n)\n",
    "print('square:',x)\n",
    "print('cube:',y)"
   ]
  },
  {
   "cell_type": "code",
   "execution_count": 72,
   "id": "86afaefb-7886-45d9-bc4e-5c304f688ba5",
   "metadata": {},
   "outputs": [],
   "source": [
    "#default parameter"
   ]
  },
  {
   "cell_type": "code",
   "execution_count": 78,
   "id": "59caf1df-4137-44ae-929e-8c1097e1c537",
   "metadata": {},
   "outputs": [],
   "source": [
    "def add3(a=3,b=5,c=10):\n",
    "    result=a+b+c\n",
    "    return result"
   ]
  },
  {
   "cell_type": "code",
   "execution_count": 84,
   "id": "74ff78ea-c804-4931-adf5-d8bf5357b3a0",
   "metadata": {},
   "outputs": [
    {
     "data": {
      "text/plain": [
       "30"
      ]
     },
     "execution_count": 84,
     "metadata": {},
     "output_type": "execute_result"
    }
   ],
   "source": [
    "add3(10,10,10)"
   ]
  },
  {
   "cell_type": "code",
   "execution_count": 85,
   "id": "4a891f7f-47bf-4cb0-b509-792ffb873cfc",
   "metadata": {},
   "outputs": [
    {
     "data": {
      "text/plain": [
       "18"
      ]
     },
     "execution_count": 85,
     "metadata": {},
     "output_type": "execute_result"
    }
   ],
   "source": [
    "add3()"
   ]
  },
  {
   "cell_type": "code",
   "execution_count": 86,
   "id": "95c0168f-3c10-46b6-bcd7-43206fca7677",
   "metadata": {},
   "outputs": [
    {
     "data": {
      "text/plain": [
       "35"
      ]
     },
     "execution_count": 86,
     "metadata": {},
     "output_type": "execute_result"
    }
   ],
   "source": [
    "add3(a=10,c=20)"
   ]
  },
  {
   "cell_type": "code",
   "execution_count": 87,
   "id": "48a06503-89ad-42b8-a6d8-e3ef4733feb1",
   "metadata": {},
   "outputs": [],
   "source": [
    "def add3(b,a=3,c=10):\n",
    "    result=a+b+c\n",
    "    return result"
   ]
  },
  {
   "cell_type": "code",
   "execution_count": 88,
   "id": "47eb6271-93e0-4738-8d60-33f080a33088",
   "metadata": {},
   "outputs": [
    {
     "data": {
      "text/plain": [
       "25"
      ]
     },
     "execution_count": 88,
     "metadata": {},
     "output_type": "execute_result"
    }
   ],
   "source": [
    "add3(12)"
   ]
  },
  {
   "cell_type": "code",
   "execution_count": 89,
   "id": "1eaded6a-8d9e-4cc0-a19b-a9c1ba1648f5",
   "metadata": {},
   "outputs": [],
   "source": [
    "#n number of args\n",
    "def in1(*a):\n",
    "    print(*a)\n",
    "    "
   ]
  },
  {
   "cell_type": "code",
   "execution_count": 90,
   "id": "99603b6f-3dda-4a4b-a5a4-196e1f64b2b1",
   "metadata": {},
   "outputs": [
    {
     "name": "stdout",
     "output_type": "stream",
     "text": [
      "12 3 45 67 8 0\n"
     ]
    }
   ],
   "source": [
    "in1(12,3,45,67,8,0)"
   ]
  },
  {
   "cell_type": "code",
   "execution_count": 92,
   "id": "024c0683-113e-41b0-8aab-dd177e68b1eb",
   "metadata": {},
   "outputs": [],
   "source": [
    "def in1(*a):\n",
    "    for i in a:\n",
    "        print(i)\n",
    "    "
   ]
  },
  {
   "cell_type": "code",
   "execution_count": 93,
   "id": "bcf39773-add8-4425-8c63-77252677e7e0",
   "metadata": {},
   "outputs": [
    {
     "name": "stdout",
     "output_type": "stream",
     "text": [
      "12\n",
      "78\n",
      "8\n"
     ]
    }
   ],
   "source": [
    "in1(12,78,8)"
   ]
  },
  {
   "cell_type": "code",
   "execution_count": 94,
   "id": "d9fe42d7-ca12-43c4-980f-12379499d564",
   "metadata": {},
   "outputs": [],
   "source": [
    "def in1(*args):\n",
    "    for i in args:\n",
    "        print(i)"
   ]
  },
  {
   "cell_type": "code",
   "execution_count": 96,
   "id": "b1c7143c-e42c-4709-a674-a8de64608ace",
   "metadata": {},
   "outputs": [
    {
     "name": "stdout",
     "output_type": "stream",
     "text": [
      "anu\n"
     ]
    }
   ],
   "source": [
    "in1('anu')"
   ]
  },
  {
   "cell_type": "code",
   "execution_count": 98,
   "id": "015d7cef-e87b-4d34-ade3-d086444045e2",
   "metadata": {},
   "outputs": [],
   "source": [
    "#lambda fn"
   ]
  },
  {
   "cell_type": "code",
   "execution_count": 99,
   "id": "95783efc-3030-4fde-a7fa-feba9c0513ee",
   "metadata": {},
   "outputs": [],
   "source": [
    "square = lambda x:x*x"
   ]
  },
  {
   "cell_type": "code",
   "execution_count": 101,
   "id": "ad13b97f-77c4-4e82-8dd9-6edc742e2289",
   "metadata": {},
   "outputs": [
    {
     "data": {
      "text/plain": [
       "25"
      ]
     },
     "execution_count": 101,
     "metadata": {},
     "output_type": "execute_result"
    }
   ],
   "source": [
    "square(5)"
   ]
  },
  {
   "cell_type": "code",
   "execution_count": 102,
   "id": "80966124-e8b3-42f1-bfdc-abdcbd914da0",
   "metadata": {},
   "outputs": [],
   "source": [
    "# lambda fn for addition of 2 numbers"
   ]
  },
  {
   "cell_type": "code",
   "execution_count": 107,
   "id": "36ebf6c5-3fb9-4f12-afe3-0a434822d887",
   "metadata": {},
   "outputs": [],
   "source": [
    "a=lambda x,y:x+y"
   ]
  },
  {
   "cell_type": "code",
   "execution_count": 109,
   "id": "f5c67ddb-dcaf-4894-a7fc-0140bfb429ce",
   "metadata": {},
   "outputs": [
    {
     "data": {
      "text/plain": [
       "35"
      ]
     },
     "execution_count": 109,
     "metadata": {},
     "output_type": "execute_result"
    }
   ],
   "source": [
    "a(12,23)"
   ]
  },
  {
   "cell_type": "code",
   "execution_count": 110,
   "id": "90fdd276-e4d6-41f3-b5d5-d861488c03a3",
   "metadata": {},
   "outputs": [],
   "source": [
    "#filter"
   ]
  },
  {
   "cell_type": "code",
   "execution_count": 112,
   "id": "41e4a781-cd27-4ce2-8ecb-fb0f47810545",
   "metadata": {},
   "outputs": [],
   "source": [
    "num=[23,34,45,56,67,12]"
   ]
  },
  {
   "cell_type": "code",
   "execution_count": 113,
   "id": "e28d6d6d-08a6-431a-af77-b50d7f741b5e",
   "metadata": {},
   "outputs": [],
   "source": [
    "new=filter (lambda x:x>40,num)"
   ]
  },
  {
   "cell_type": "code",
   "execution_count": 115,
   "id": "19b18205-b832-403c-9863-0dce6b61f9aa",
   "metadata": {},
   "outputs": [
    {
     "data": {
      "text/plain": [
       "[45, 56, 67]"
      ]
     },
     "execution_count": 115,
     "metadata": {},
     "output_type": "execute_result"
    }
   ],
   "source": [
    "list(new)"
   ]
  },
  {
   "cell_type": "code",
   "execution_count": 116,
   "id": "63788394-64f9-4241-82eb-52896419a10d",
   "metadata": {},
   "outputs": [],
   "source": [
    "#mapping"
   ]
  },
  {
   "cell_type": "code",
   "execution_count": 123,
   "id": "85b9a4f2-5622-44ed-ad42-52b2abb97337",
   "metadata": {},
   "outputs": [],
   "source": [
    "new=map(lambda x:x/2,num)"
   ]
  },
  {
   "cell_type": "code",
   "execution_count": 124,
   "id": "47576562-d892-4554-b4d5-a32dd84a95bc",
   "metadata": {},
   "outputs": [
    {
     "data": {
      "text/plain": [
       "[11.5, 17.0, 22.5, 28.0, 33.5, 6.0]"
      ]
     },
     "execution_count": 124,
     "metadata": {},
     "output_type": "execute_result"
    }
   ],
   "source": [
    "list(new)"
   ]
  },
  {
   "cell_type": "code",
   "execution_count": null,
   "id": "615ba951-c931-4719-bfe6-feba8248aacb",
   "metadata": {},
   "outputs": [],
   "source": []
  }
 ],
 "metadata": {
  "kernelspec": {
   "display_name": "Python 3 (ipykernel)",
   "language": "python",
   "name": "python3"
  },
  "language_info": {
   "codemirror_mode": {
    "name": "ipython",
    "version": 3
   },
   "file_extension": ".py",
   "mimetype": "text/x-python",
   "name": "python",
   "nbconvert_exporter": "python",
   "pygments_lexer": "ipython3",
   "version": "3.11.7"
  }
 },
 "nbformat": 4,
 "nbformat_minor": 5
}
