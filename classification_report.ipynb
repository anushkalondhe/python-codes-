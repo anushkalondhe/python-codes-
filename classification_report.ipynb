{
 "cells": [
  {
   "cell_type": "code",
   "execution_count": 1,
   "id": "1ac559d7-821f-4515-b341-f808d6f10478",
   "metadata": {},
   "outputs": [],
   "source": [
    "import pandas as pd"
   ]
  },
  {
   "cell_type": "code",
   "execution_count": 9,
   "id": "762c8197-52c6-43ab-9635-71bf5383a566",
   "metadata": {},
   "outputs": [],
   "source": [
    "actual   =['c','c','nc','c','nc','nc','c','nc','nc']\n",
    "predicted=['c','nc','nc','c','c','nc','nc','c','nc'] "
   ]
  },
  {
   "cell_type": "markdown",
   "id": "239d305e-a683-407c-add9-4ce3c5b97e25",
   "metadata": {},
   "source": [
    "# for cat"
   ]
  },
  {
   "cell_type": "code",
   "execution_count": 11,
   "id": "9527d41d-c8c3-433a-9e39-4635d21f3cef",
   "metadata": {},
   "outputs": [],
   "source": [
    "tp=2   # predicted and actual both are same i.e. cat(true positive)"
   ]
  },
  {
   "cell_type": "code",
   "execution_count": 12,
   "id": "cac28aed-1df8-4caf-a669-8ac621a9dc23",
   "metadata": {},
   "outputs": [],
   "source": [
    "fp=2   #actual-notcat,predicted-cat(false positive)"
   ]
  },
  {
   "cell_type": "code",
   "execution_count": 13,
   "id": "e210b4a9-b0fa-4ec9-8b8e-9928cf5dba75",
   "metadata": {},
   "outputs": [],
   "source": [
    "fn=2    #actual-cat,predicted-notcat(false negative)"
   ]
  },
  {
   "cell_type": "code",
   "execution_count": 14,
   "id": "a6bb7261-8a7e-4ed4-9432-aba54e7f21fd",
   "metadata": {},
   "outputs": [],
   "source": [
    "tn=3    #actual-notcat,predicted-notcat(true negative)"
   ]
  },
  {
   "cell_type": "code",
   "execution_count": 15,
   "id": "8de6d2fa-1a10-4d47-9ee2-e6c5eb2fb153",
   "metadata": {},
   "outputs": [],
   "source": [
    "# precision"
   ]
  },
  {
   "cell_type": "code",
   "execution_count": 21,
   "id": "654186af-dee1-4490-a30d-1e3bc1398221",
   "metadata": {},
   "outputs": [
    {
     "data": {
      "text/plain": [
       "0.5"
      ]
     },
     "execution_count": 21,
     "metadata": {},
     "output_type": "execute_result"
    }
   ],
   "source": [
    "precision=2/4       #how many cats are predicted(2-correct,4-total)\n",
    "precision"
   ]
  },
  {
   "cell_type": "code",
   "execution_count": 18,
   "id": "a128d5f3-97d5-46b0-9640-79384ec10ec6",
   "metadata": {},
   "outputs": [],
   "source": [
    "# recall"
   ]
  },
  {
   "cell_type": "code",
   "execution_count": 22,
   "id": "4e2a1aaf-c708-4cf1-a067-c93c624f1779",
   "metadata": {},
   "outputs": [
    {
     "data": {
      "text/plain": [
       "0.5"
      ]
     },
     "execution_count": 22,
     "metadata": {},
     "output_type": "execute_result"
    }
   ],
   "source": [
    "recall=2/4     #out of total cats how many correct predicted(2-correct,4-total)\n",
    "recall"
   ]
  },
  {
   "cell_type": "code",
   "execution_count": 26,
   "id": "ab304391-4fbd-4c0f-87d9-02238a8e4c2d",
   "metadata": {},
   "outputs": [],
   "source": [
    "#f1-score"
   ]
  },
  {
   "cell_type": "code",
   "execution_count": 24,
   "id": "00f83434-e17f-4b91-8ce8-79be47e106fd",
   "metadata": {},
   "outputs": [],
   "source": [
    "#harmonic mean between precision and recall"
   ]
  },
  {
   "cell_type": "code",
   "execution_count": 25,
   "id": "f1ee8ad5-1aaa-4c1c-b283-ace16cbe86e0",
   "metadata": {},
   "outputs": [
    {
     "data": {
      "text/plain": [
       "0.5"
      ]
     },
     "execution_count": 25,
     "metadata": {},
     "output_type": "execute_result"
    }
   ],
   "source": [
    "(2*precision*recall)/(precision+recall)"
   ]
  },
  {
   "cell_type": "code",
   "execution_count": null,
   "id": "eb4e319c-6113-42d4-ba8a-08627a99150e",
   "metadata": {},
   "outputs": [],
   "source": []
  }
 ],
 "metadata": {
  "kernelspec": {
   "display_name": "Python 3 (ipykernel)",
   "language": "python",
   "name": "python3"
  },
  "language_info": {
   "codemirror_mode": {
    "name": "ipython",
    "version": 3
   },
   "file_extension": ".py",
   "mimetype": "text/x-python",
   "name": "python",
   "nbconvert_exporter": "python",
   "pygments_lexer": "ipython3",
   "version": "3.11.7"
  }
 },
 "nbformat": 4,
 "nbformat_minor": 5
}
