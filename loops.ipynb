{
 "cells": [
  {
   "cell_type": "code",
   "execution_count": 1,
   "id": "1bbb4d68-b92e-4f06-938e-374007e5a3f4",
   "metadata": {},
   "outputs": [
    {
     "name": "stdout",
     "output_type": "stream",
     "text": [
      "anushka\n",
      "anushka\n",
      "anushka\n",
      "anushka\n",
      "anushka\n"
     ]
    }
   ],
   "source": [
    "count=1\n",
    "while count<=5:\n",
    "    print('anushka')\n",
    "    count=count+1\n",
    "    "
   ]
  },
  {
   "cell_type": "code",
   "execution_count": 5,
   "id": "fe79be28-5bf8-4abf-ac56-01f6e3179ff1",
   "metadata": {},
   "outputs": [
    {
     "name": "stdout",
     "output_type": "stream",
     "text": [
      "5\n",
      "6\n",
      "7\n",
      "8\n",
      "9\n",
      "10\n",
      "11\n",
      "12\n",
      "13\n",
      "14\n",
      "15\n",
      "by\n"
     ]
    }
   ],
   "source": [
    "n=5\n",
    "while n<=15:\n",
    "    print(n)\n",
    "    n=n+1\n",
    "print('by')    "
   ]
  },
  {
   "cell_type": "code",
   "execution_count": 7,
   "id": "21ee1946-abde-49bd-be95-3f1aca550477",
   "metadata": {},
   "outputs": [
    {
     "name": "stdout",
     "output_type": "stream",
     "text": [
      "16\n"
     ]
    }
   ],
   "source": [
    "print(n)"
   ]
  },
  {
   "cell_type": "code",
   "execution_count": 17,
   "id": "f15fc226-f411-4b2d-9df4-e0defc34be46",
   "metadata": {},
   "outputs": [
    {
     "name": "stdout",
     "output_type": "stream",
     "text": [
      "addition is: 55\n"
     ]
    }
   ],
   "source": [
    "# print addition of no. from 1 to 10\n",
    "\n",
    "count=1\n",
    "add=0\n",
    "\n",
    "while count<=10:\n",
    "    add=add+count\n",
    "    count+=1\n",
    "print('addition is:',add)"
   ]
  },
  {
   "cell_type": "code",
   "execution_count": 31,
   "id": "ed070c60-153d-46d2-9171-33e9829ac1eb",
   "metadata": {},
   "outputs": [
    {
     "name": "stdout",
     "output_type": "stream",
     "text": [
      "addition: 100\n"
     ]
    }
   ],
   "source": [
    "# print addition of all odd no. from  1 to 20\n",
    "\n",
    "count=1\n",
    "add=0\n",
    "\n",
    "while count<=20:\n",
    "    add=add+count\n",
    "    count+=2\n",
    "print('addition:',add) "
   ]
  },
  {
   "cell_type": "code",
   "execution_count": 32,
   "id": "594b1f14-961f-4b7b-86b7-d5fbc54c47d4",
   "metadata": {},
   "outputs": [
    {
     "name": "stdout",
     "output_type": "stream",
     "text": [
      "factorial: 120\n"
     ]
    }
   ],
   "source": [
    "# factorial => 5! => 5 * 4 * 3 * 2 * 1 =120\n",
    "\n",
    "num=1\n",
    "fact=1\n",
    "while num<=5:\n",
    "    fact=fact*num\n",
    "    num+=1\n",
    "print('factorial:',fact)\n"
   ]
  },
  {
   "cell_type": "code",
   "execution_count": 33,
   "id": "c2f1ba4e-fa66-48e4-8907-7fa78feed517",
   "metadata": {},
   "outputs": [
    {
     "name": "stdin",
     "output_type": "stream",
     "text": [
      "enter the number 5\n"
     ]
    },
    {
     "name": "stdout",
     "output_type": "stream",
     "text": [
      "factorial: 120\n"
     ]
    }
   ],
   "source": [
    "num=int(input('enter the number'))\n",
    "fact=1\n",
    "while num>1:\n",
    "    fact=fact*num\n",
    "    num-=1\n",
    "print('factorial:',fact)"
   ]
  },
  {
   "cell_type": "code",
   "execution_count": 45,
   "id": "90c046e9-5383-4a1a-9719-60078876d313",
   "metadata": {},
   "outputs": [
    {
     "name": "stdin",
     "output_type": "stream",
     "text": [
      "enter number 3421\n"
     ]
    },
    {
     "name": "stdout",
     "output_type": "stream",
     "text": [
      "addiiton: 10\n"
     ]
    }
   ],
   "source": [
    "#find sum of digits in a number \n",
    "#12345=>1+2+3+4+5=15\n",
    "\n",
    "n=int(input('enter number'))\n",
    "add=0\n",
    "while n>0:\n",
    "    rem=n%10\n",
    "    add=add+rem\n",
    "    n=n//10\n",
    "print('addiiton:',add)"
   ]
  },
  {
   "cell_type": "code",
   "execution_count": 47,
   "id": "f73a0a9b-5d0b-4984-93dc-46c2563b9418",
   "metadata": {},
   "outputs": [
    {
     "name": "stdout",
     "output_type": "stream",
     "text": [
      "12\n",
      "34\n",
      "45\n",
      "21\n",
      "anu\n",
      "True\n"
     ]
    }
   ],
   "source": [
    "for n in 12,34,45,21,'anu',True:\n",
    "    print(n)"
   ]
  },
  {
   "cell_type": "code",
   "execution_count": 48,
   "id": "8474f1c3-0ea5-4636-993a-54eabf5f7ed4",
   "metadata": {},
   "outputs": [
    {
     "name": "stdout",
     "output_type": "stream",
     "text": [
      "6.0\n",
      "17.0\n",
      "22.5\n",
      "10.5\n"
     ]
    }
   ],
   "source": [
    "for n in 12,34,45,21:\n",
    "    print(n/2)"
   ]
  },
  {
   "cell_type": "code",
   "execution_count": 51,
   "id": "841fe409-bd6a-4f64-b81b-98099b6f3209",
   "metadata": {},
   "outputs": [
    {
     "data": {
      "text/plain": [
       "[5, 7, 9, 11, 13, 15, 17, 19]"
      ]
     },
     "execution_count": 51,
     "metadata": {},
     "output_type": "execute_result"
    }
   ],
   "source": [
    "list(range(5,20,2))"
   ]
  },
  {
   "cell_type": "code",
   "execution_count": 54,
   "id": "14197ed2-6ceb-4dd0-bfaf-9bbe60cd9925",
   "metadata": {},
   "outputs": [
    {
     "name": "stdout",
     "output_type": "stream",
     "text": [
      "1\n",
      "2\n",
      "3\n",
      "4\n",
      "5\n",
      "6\n",
      "7\n",
      "8\n",
      "9\n",
      "10\n"
     ]
    }
   ],
   "source": [
    "for n in range(1,11):\n",
    "    print(n)"
   ]
  },
  {
   "cell_type": "code",
   "execution_count": 57,
   "id": "24a619b2-a579-4dc8-ae4a-1f95ee3a07bc",
   "metadata": {},
   "outputs": [
    {
     "name": "stdout",
     "output_type": "stream",
     "text": [
      "addition= 100\n"
     ]
    }
   ],
   "source": [
    "# addition of all odd numbers from 1 to 20\n",
    "\n",
    "add=0\n",
    "\n",
    "for n in range(1,21,2):\n",
    "    add=add+n\n",
    "print('addition=',add) "
   ]
  },
  {
   "cell_type": "code",
   "execution_count": 61,
   "id": "88789f6d-2883-4f1a-aa89-6713ff78541d",
   "metadata": {},
   "outputs": [
    {
     "name": "stdout",
     "output_type": "stream",
     "text": [
      "anushka\n",
      "anushka\n",
      "anushka\n",
      "anushka\n",
      "anushka\n",
      "anushka\n",
      "anushka\n",
      "anushka\n",
      "anushka\n",
      "anushka\n"
     ]
    }
   ],
   "source": [
    "for n in range(10):\n",
    "    print('anushka') "
   ]
  },
  {
   "cell_type": "code",
   "execution_count": 66,
   "id": "7d2b2808-f51e-42a1-a2d8-67a34d2bba69",
   "metadata": {},
   "outputs": [
    {
     "name": "stdout",
     "output_type": "stream",
     "text": [
      "anu\n",
      "anushka\n"
     ]
    }
   ],
   "source": [
    "for n in 'anu','anushka':\n",
    "    print(n)"
   ]
  },
  {
   "cell_type": "code",
   "execution_count": 67,
   "id": "b6017a83-a1f8-426c-af89-8c8d0fc1ffee",
   "metadata": {},
   "outputs": [
    {
     "name": "stdout",
     "output_type": "stream",
     "text": [
      "12\n",
      "32\n",
      "32\n",
      "44\n",
      "21\n",
      "loop ended\n"
     ]
    }
   ],
   "source": [
    "l=[12,32,32,44,21]\n",
    "for n in l:\n",
    "    print(n)\n",
    "else:\n",
    "    print('loop ended')"
   ]
  },
  {
   "cell_type": "code",
   "execution_count": 80,
   "id": "b0061962-26b4-445b-befd-e29c66e70dd3",
   "metadata": {},
   "outputs": [
    {
     "name": "stdin",
     "output_type": "stream",
     "text": [
      "enter a  number 5\n"
     ]
    },
    {
     "name": "stdout",
     "output_type": "stream",
     "text": [
      "factorial is: 120\n"
     ]
    }
   ],
   "source": [
    "#find factorial of a number using for\n",
    "\n",
    "fact=1\n",
    "num=int(input('enter a  number'))\n",
    "for n in range(1,num+1):\n",
    "    fact=fact*n\n",
    "print('factorial is:',fact)"
   ]
  },
  {
   "cell_type": "code",
   "execution_count": null,
   "id": "1a54ec86-848a-43ff-9231-17c5be43575a",
   "metadata": {},
   "outputs": [],
   "source": [
    "# break statement"
   ]
  },
  {
   "cell_type": "code",
   "execution_count": 81,
   "id": "ee6fc73f-dfb1-4740-a55a-ffe4ad676f80",
   "metadata": {},
   "outputs": [
    {
     "name": "stdout",
     "output_type": "stream",
     "text": [
      "1\n",
      "2\n",
      "3\n",
      "4\n"
     ]
    }
   ],
   "source": [
    "for n in range(1,10):\n",
    "    if n==5:\n",
    "        break\n",
    "    print(n)\n",
    "        \n",
    "        "
   ]
  },
  {
   "cell_type": "code",
   "execution_count": 82,
   "id": "3bf8d828-b040-4e9b-a6fb-d312caa833da",
   "metadata": {},
   "outputs": [
    {
     "name": "stdout",
     "output_type": "stream",
     "text": [
      "0\n",
      "1\n",
      "2\n",
      "3\n",
      "4\n",
      "5\n"
     ]
    }
   ],
   "source": [
    "count = 0\n",
    "while count<10:\n",
    "    print(count)\n",
    "    if count==5:\n",
    "        break\n",
    "    count+=1"
   ]
  },
  {
   "cell_type": "code",
   "execution_count": 83,
   "id": "d8862a3f-c817-4f91-91fb-46319db804bc",
   "metadata": {},
   "outputs": [
    {
     "name": "stdout",
     "output_type": "stream",
     "text": [
      "1\n",
      "2\n",
      "3\n",
      "4\n",
      "6\n",
      "7\n",
      "8\n",
      "9\n"
     ]
    }
   ],
   "source": [
    "for n in range(1,10):\n",
    "    if n==5:\n",
    "        continue\n",
    "    print(n)\n",
    "        "
   ]
  },
  {
   "cell_type": "code",
   "execution_count": 87,
   "id": "c6953d84-d465-4130-8ea3-9e1367dc3670",
   "metadata": {},
   "outputs": [
    {
     "name": "stdout",
     "output_type": "stream",
     "text": [
      "1\n",
      "3\n",
      "5\n",
      "7\n",
      "9\n",
      "11\n"
     ]
    }
   ],
   "source": [
    "#print add no from 1 to 12 using continue statement\n",
    "\n",
    "for n in range(1,13):\n",
    "    if n%2==0:\n",
    "        continue\n",
    "    print(n)\n"
   ]
  },
  {
   "cell_type": "code",
   "execution_count": 88,
   "id": "5572a834-75c0-48f0-a767-a20a0e085254",
   "metadata": {},
   "outputs": [],
   "source": [
    "###pass"
   ]
  },
  {
   "cell_type": "code",
   "execution_count": 90,
   "id": "917ab16f-ffc6-456b-a801-3412ff0b3bd5",
   "metadata": {},
   "outputs": [],
   "source": [
    "num=5\n",
    "if num>1:\n",
    "    pass "
   ]
  },
  {
   "cell_type": "code",
   "execution_count": null,
   "id": "4edcad60-9112-4fdd-b1dc-df32f8999c71",
   "metadata": {},
   "outputs": [],
   "source": [
    "'''\n",
    "*\n",
    "**\n",
    "***\n",
    "''';"
   ]
  },
  {
   "cell_type": "code",
   "execution_count": 120,
   "id": "e5d79123-ae5e-44cd-8608-6a7cd436242a",
   "metadata": {},
   "outputs": [
    {
     "name": "stdin",
     "output_type": "stream",
     "text": [
      "enter number of rows: 7\n"
     ]
    },
    {
     "name": "stdout",
     "output_type": "stream",
     "text": [
      "* \n",
      "* * \n",
      "* * * \n",
      "* * * * \n",
      "* * * * * \n",
      "* * * * * * \n",
      "* * * * * * * \n"
     ]
    }
   ],
   "source": [
    "row=int(input('enter number of rows:'))\n",
    "for i in range(1,row+1):\n",
    "    for j in range(i):\n",
    "        print('*',end=' ')\n",
    "    print ()\n",
    "    "
   ]
  },
  {
   "cell_type": "markdown",
   "id": "79f78512-3114-4656-b7d4-ca1bac9b69af",
   "metadata": {},
   "source": []
  }
 ],
 "metadata": {
  "kernelspec": {
   "display_name": "Python 3 (ipykernel)",
   "language": "python",
   "name": "python3"
  },
  "language_info": {
   "codemirror_mode": {
    "name": "ipython",
    "version": 3
   },
   "file_extension": ".py",
   "mimetype": "text/x-python",
   "name": "python",
   "nbconvert_exporter": "python",
   "pygments_lexer": "ipython3",
   "version": "3.11.7"
  }
 },
 "nbformat": 4,
 "nbformat_minor": 5
}
