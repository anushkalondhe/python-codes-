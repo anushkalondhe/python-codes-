{
 "cells": [
  {
   "cell_type": "markdown",
   "id": "cb9c5a84-7f01-4f53-8c19-093473673857",
   "metadata": {},
   "source": [
    "# oop"
   ]
  },
  {
   "cell_type": "code",
   "execution_count": 6,
   "id": "bc6f373b-fe05-4eba-8585-b7bd149a151b",
   "metadata": {},
   "outputs": [],
   "source": [
    "class Employee():            #class\n",
    "    pass"
   ]
  },
  {
   "cell_type": "code",
   "execution_count": 7,
   "id": "61fd4715-decc-4016-8d58-baf02e1b14b6",
   "metadata": {},
   "outputs": [],
   "source": [
    "emp1=Employee()              #instance(object)\n",
    "emp2=Employee()"
   ]
  },
  {
   "cell_type": "code",
   "execution_count": 8,
   "id": "2538c811-535a-488c-94ed-be86f52c3c70",
   "metadata": {},
   "outputs": [
    {
     "name": "stdout",
     "output_type": "stream",
     "text": [
      "<__main__.Employee object at 0x00000236C29AB2D0>\n",
      "<__main__.Employee object at 0x00000236C29AAF10>\n"
     ]
    }
   ],
   "source": [
    "print(emp1)\n",
    "print(emp2)"
   ]
  },
  {
   "cell_type": "code",
   "execution_count": 9,
   "id": "cd780dd7-e1bc-4883-af24-b15d1a5ed23f",
   "metadata": {},
   "outputs": [],
   "source": [
    "#instance variables"
   ]
  },
  {
   "cell_type": "code",
   "execution_count": 10,
   "id": "410efe4f-6cee-4ea6-b46d-86f1f49fc9f3",
   "metadata": {},
   "outputs": [],
   "source": [
    "emp1.first='anushka'\n",
    "emp1.last='londhe'\n",
    "emp1.salary=50000\n",
    "\n",
    "emp2.first='aayush'\n",
    "emp2.last='londhe'\n",
    "emp2.salary=40000"
   ]
  },
  {
   "cell_type": "code",
   "execution_count": 11,
   "id": "25e1de30-2680-495f-a92d-04ce805da184",
   "metadata": {},
   "outputs": [
    {
     "name": "stdout",
     "output_type": "stream",
     "text": [
      "anushka\n"
     ]
    }
   ],
   "source": [
    "print(emp1.first)"
   ]
  },
  {
   "cell_type": "code",
   "execution_count": 12,
   "id": "229b185a-b90a-4f86-8734-b295a0cf5fda",
   "metadata": {},
   "outputs": [
    {
     "name": "stdout",
     "output_type": "stream",
     "text": [
      "40000\n"
     ]
    }
   ],
   "source": [
    "print(emp2.salary)"
   ]
  },
  {
   "cell_type": "code",
   "execution_count": 59,
   "id": "8cf587da-221b-45c5-9af7-f93d0fd880e2",
   "metadata": {},
   "outputs": [],
   "source": [
    "class Employee():                                       #self = this keyword\n",
    "    def __init__ (self,first,last,salary):              #emp1=self\n",
    "        self.first=first\n",
    "        self.last=last\n",
    "        self.salary=salary\n",
    "   \n",
    "    def show(self):\n",
    "        print(self.first+' '+'ok')"
   ]
  },
  {
   "cell_type": "markdown",
   "id": "5e24697a-5bf3-40c8-9468-1d61acb987a3",
   "metadata": {},
   "source": [
    "emp1=Employee('raj','sharma',40000)"
   ]
  },
  {
   "cell_type": "code",
   "execution_count": 61,
   "id": "31b56e16-ca45-4fe7-9176-af05160db19c",
   "metadata": {},
   "outputs": [],
   "source": [
    "emp1=Employee('raj','sharma',48000)"
   ]
  },
  {
   "cell_type": "code",
   "execution_count": 62,
   "id": "da624d7c-2ad2-4ad6-b48a-4c042bd8b4f7",
   "metadata": {},
   "outputs": [
    {
     "name": "stdout",
     "output_type": "stream",
     "text": [
      "raj\n"
     ]
    }
   ],
   "source": [
    "print(emp1.first)"
   ]
  },
  {
   "cell_type": "code",
   "execution_count": 63,
   "id": "d5785221-fbe2-48ed-94dc-8026ef7ace71",
   "metadata": {},
   "outputs": [
    {
     "name": "stdout",
     "output_type": "stream",
     "text": [
      "lokhande\n"
     ]
    }
   ],
   "source": [
    "emp2=Employee('swarali','lokhande',45000)\n",
    "print(emp2.last)"
   ]
  },
  {
   "cell_type": "code",
   "execution_count": 64,
   "id": "7fda861c-4c1c-435b-a818-9f7273ddb777",
   "metadata": {},
   "outputs": [
    {
     "name": "stdout",
     "output_type": "stream",
     "text": [
      "raj ok\n"
     ]
    }
   ],
   "source": [
    "emp1.show()"
   ]
  },
  {
   "cell_type": "code",
   "execution_count": 66,
   "id": "c5a9bf1f-9573-481a-bbf0-8e9272ebfb21",
   "metadata": {},
   "outputs": [
    {
     "name": "stdout",
     "output_type": "stream",
     "text": [
      "swarali ok\n"
     ]
    }
   ],
   "source": [
    "emp2.show()"
   ]
  },
  {
   "cell_type": "markdown",
   "id": "3547c239-41de-424c-a12c-134d8041ed37",
   "metadata": {},
   "source": [
    "# encapsulation"
   ]
  },
  {
   "cell_type": "code",
   "execution_count": 84,
   "id": "29bae126-ae78-4ecd-98cc-9bc8406d2636",
   "metadata": {},
   "outputs": [],
   "source": [
    "class Employee():                                       #self = this keyword\n",
    "    def __init__ (self,first,last,salary):              #emp1=self\n",
    "        self.first=first\n",
    "        self.last=last\n",
    "        self.__salary=salary                           #salary=private variable\n",
    "   \n",
    "    def show(self):\n",
    "        print(self.first+' '+'ok')\n",
    "\n",
    "    def disp(self):\n",
    "        print(self.__salary)"
   ]
  },
  {
   "cell_type": "code",
   "execution_count": 85,
   "id": "dee30315-fd32-4b33-b249-2f080d126809",
   "metadata": {},
   "outputs": [],
   "source": [
    "emp1=Employee('raj','modi',45000)\n",
    "emp2=Employee('anu','abc',55000)"
   ]
  },
  {
   "cell_type": "code",
   "execution_count": 86,
   "id": "030c1137-4436-4dc0-9a60-156c1cf60c85",
   "metadata": {},
   "outputs": [
    {
     "name": "stdout",
     "output_type": "stream",
     "text": [
      "raj ok\n"
     ]
    }
   ],
   "source": [
    "emp1.show()"
   ]
  },
  {
   "cell_type": "code",
   "execution_count": 87,
   "id": "254d45c0-49b3-481d-8f6a-6a3575c5dcb0",
   "metadata": {},
   "outputs": [
    {
     "name": "stdout",
     "output_type": "stream",
     "text": [
      "anu ok\n"
     ]
    }
   ],
   "source": [
    "emp2.show()"
   ]
  },
  {
   "cell_type": "code",
   "execution_count": 88,
   "id": "6aabc66d-4a74-4cf9-9839-6160c1d011da",
   "metadata": {},
   "outputs": [
    {
     "ename": "AttributeError",
     "evalue": "'Employee' object has no attribute 'salary'",
     "output_type": "error",
     "traceback": [
      "\u001b[1;31m---------------------------------------------------------------------------\u001b[0m",
      "\u001b[1;31mAttributeError\u001b[0m                            Traceback (most recent call last)",
      "Cell \u001b[1;32mIn[88], line 1\u001b[0m\n\u001b[1;32m----> 1\u001b[0m \u001b[38;5;28mprint\u001b[39m(emp1\u001b[38;5;241m.\u001b[39msalary)\n",
      "\u001b[1;31mAttributeError\u001b[0m: 'Employee' object has no attribute 'salary'"
     ]
    }
   ],
   "source": [
    "print(emp1.salary)"
   ]
  },
  {
   "cell_type": "code",
   "execution_count": 82,
   "id": "126d9a30-25d6-474d-89cc-fbdf1b50c036",
   "metadata": {},
   "outputs": [
    {
     "ename": "AttributeError",
     "evalue": "'Employee' object has no attribute 'salary'",
     "output_type": "error",
     "traceback": [
      "\u001b[1;31m---------------------------------------------------------------------------\u001b[0m",
      "\u001b[1;31mAttributeError\u001b[0m                            Traceback (most recent call last)",
      "Cell \u001b[1;32mIn[82], line 1\u001b[0m\n\u001b[1;32m----> 1\u001b[0m \u001b[38;5;28mprint\u001b[39m(emp2\u001b[38;5;241m.\u001b[39msalary)\n",
      "\u001b[1;31mAttributeError\u001b[0m: 'Employee' object has no attribute 'salary'"
     ]
    }
   ],
   "source": [
    "print(emp2.salary)"
   ]
  },
  {
   "cell_type": "code",
   "execution_count": 75,
   "id": "e0c25133-fcf3-4b5e-957e-57b4f0bdc123",
   "metadata": {},
   "outputs": [
    {
     "name": "stdout",
     "output_type": "stream",
     "text": [
      "raj modi\n"
     ]
    }
   ],
   "source": [
    "print(emp1.first,emp1.last)"
   ]
  },
  {
   "cell_type": "code",
   "execution_count": 89,
   "id": "dad0a7c4-d52e-4170-aaba-413f3cf2ae32",
   "metadata": {},
   "outputs": [
    {
     "name": "stdout",
     "output_type": "stream",
     "text": [
      "45000\n"
     ]
    }
   ],
   "source": [
    "emp1.disp()"
   ]
  },
  {
   "cell_type": "code",
   "execution_count": 90,
   "id": "1c719d52-5d4c-47b8-9b92-171a7a88d8ff",
   "metadata": {},
   "outputs": [
    {
     "name": "stdout",
     "output_type": "stream",
     "text": [
      "55000\n"
     ]
    }
   ],
   "source": [
    "emp2.disp()"
   ]
  },
  {
   "cell_type": "markdown",
   "id": "a4402da3-4d18-4b46-831d-1f2d91ccfe44",
   "metadata": {},
   "source": [
    "# inheritance"
   ]
  },
  {
   "cell_type": "code",
   "execution_count": 91,
   "id": "68839c1a-763d-48db-b682-f2a8436b6564",
   "metadata": {},
   "outputs": [],
   "source": [
    "class Emp2(Employee):\n",
    "    pass"
   ]
  },
  {
   "cell_type": "code",
   "execution_count": 92,
   "id": "6dba4c88-7381-4a22-aa35-f8f43f364aad",
   "metadata": {},
   "outputs": [],
   "source": [
    "emp3=Emp2('neha','kulkarni',60000)"
   ]
  },
  {
   "cell_type": "code",
   "execution_count": 93,
   "id": "850303e8-72ee-4ed5-a0b6-fc298866dc85",
   "metadata": {},
   "outputs": [
    {
     "name": "stdout",
     "output_type": "stream",
     "text": [
      "neha\n"
     ]
    }
   ],
   "source": [
    "print(emp3.first)"
   ]
  },
  {
   "cell_type": "code",
   "execution_count": 94,
   "id": "147dd4ac-feff-4f38-b1a6-82c687e85e64",
   "metadata": {},
   "outputs": [
    {
     "name": "stdout",
     "output_type": "stream",
     "text": [
      "neha ok\n"
     ]
    }
   ],
   "source": [
    "emp3.show()"
   ]
  },
  {
   "cell_type": "code",
   "execution_count": 95,
   "id": "55e92bd9-fc62-4d68-9d63-84a8815ccc8f",
   "metadata": {},
   "outputs": [
    {
     "name": "stdout",
     "output_type": "stream",
     "text": [
      "60000\n"
     ]
    }
   ],
   "source": [
    "emp3.disp()"
   ]
  },
  {
   "cell_type": "code",
   "execution_count": 97,
   "id": "be9e2e7d-dd6c-47f3-a81b-4f8844d6420a",
   "metadata": {},
   "outputs": [],
   "source": [
    "#create a class called person\n",
    "#attributes:name,age,city  (make use of default para also)\n",
    "#create a method which will show all the info of person"
   ]
  },
  {
   "cell_type": "code",
   "execution_count": 107,
   "id": "3ae22ea2-2c7d-4100-b6d2-afd9cf9ff022",
   "metadata": {},
   "outputs": [],
   "source": [
    "class Person():\n",
    "     def __init__ (self,name,age,city):              #emp1=self\n",
    "        self.name=name\n",
    "        self.age=age\n",
    "        self.city=city\n",
    "     def show(self):\n",
    "         print(self.name,self.age,self.city) \n",
    "         "
   ]
  },
  {
   "cell_type": "code",
   "execution_count": 117,
   "id": "0eeee7dd-d172-440e-a553-b4e2e7aa8f08",
   "metadata": {},
   "outputs": [],
   "source": [
    "p1=Person('anushka','17','pune')\n",
    "p2=Person('shrawani','22','pune')\n",
    "p3=Person('shraddha','19','nagar')\n",
    "p4=Person('abcd',' ','nashik')"
   ]
  },
  {
   "cell_type": "code",
   "execution_count": 118,
   "id": "2a6860c0-84a7-4377-aa77-8e9c3aea6c70",
   "metadata": {},
   "outputs": [
    {
     "name": "stdout",
     "output_type": "stream",
     "text": [
      "anushka 17 pune\n"
     ]
    }
   ],
   "source": [
    "p1.show()"
   ]
  },
  {
   "cell_type": "code",
   "execution_count": 119,
   "id": "b339c86c-5727-4390-8eb5-c875e6d4e994",
   "metadata": {},
   "outputs": [
    {
     "name": "stdout",
     "output_type": "stream",
     "text": [
      "shrawani 22 pune\n"
     ]
    }
   ],
   "source": [
    "p2.show()"
   ]
  },
  {
   "cell_type": "code",
   "execution_count": 120,
   "id": "ce125ae5-3dfc-49b4-bbd5-7701bb0aeb1a",
   "metadata": {},
   "outputs": [
    {
     "name": "stdout",
     "output_type": "stream",
     "text": [
      "shraddha 19 nagar\n"
     ]
    }
   ],
   "source": [
    "p3.show()"
   ]
  },
  {
   "cell_type": "code",
   "execution_count": 121,
   "id": "d30c3df1-a0f9-433a-8534-92d4319a46e6",
   "metadata": {},
   "outputs": [
    {
     "name": "stdout",
     "output_type": "stream",
     "text": [
      "abcd   nashik\n"
     ]
    }
   ],
   "source": [
    "p4.show()"
   ]
  },
  {
   "cell_type": "code",
   "execution_count": null,
   "id": "3a0c464a-152d-4b41-a1ab-4911270a3c86",
   "metadata": {},
   "outputs": [],
   "source": [
    "#create a class called person\n",
    "#attributes:name,age,city  (make use of default para also)\n",
    "#create a method which will show all the info of person"
   ]
  },
  {
   "cell_type": "code",
   "execution_count": 123,
   "id": "8475e880-8016-4993-8804-10b89b9b4df8",
   "metadata": {},
   "outputs": [],
   "source": [
    "class Person():\n",
    "    def __init__(self,n,a=25):\n",
    "        self.name=n\n",
    "        self.age=a\n",
    "    def info(self):\n",
    "        print('name:',self.name)\n",
    "        print('age:',self.age)"
   ]
  },
  {
   "cell_type": "code",
   "execution_count": 124,
   "id": "3a3f1bdc-c3e9-43ba-bd93-68adf65a8a1d",
   "metadata": {},
   "outputs": [],
   "source": [
    "pe1=Person('anushka',56)\n",
    "pe2=Person('sanika')"
   ]
  },
  {
   "cell_type": "code",
   "execution_count": 125,
   "id": "ab6ba5e7-6823-4b01-8ab6-ab64d73130f9",
   "metadata": {},
   "outputs": [
    {
     "name": "stdout",
     "output_type": "stream",
     "text": [
      "name: anushka\n",
      "age: 56\n"
     ]
    }
   ],
   "source": [
    "pe1.info()"
   ]
  },
  {
   "cell_type": "code",
   "execution_count": 126,
   "id": "7f21d888-0e7f-4c7e-937d-f5bde0361e6f",
   "metadata": {},
   "outputs": [
    {
     "name": "stdout",
     "output_type": "stream",
     "text": [
      "name: sanika\n",
      "age: 25\n"
     ]
    }
   ],
   "source": [
    "pe2.info()"
   ]
  },
  {
   "cell_type": "code",
   "execution_count": null,
   "id": "709b49ba-d9ae-49fa-b751-b7c7c9634926",
   "metadata": {},
   "outputs": [],
   "source": []
  }
 ],
 "metadata": {
  "kernelspec": {
   "display_name": "Python 3 (ipykernel)",
   "language": "python",
   "name": "python3"
  },
  "language_info": {
   "codemirror_mode": {
    "name": "ipython",
    "version": 3
   },
   "file_extension": ".py",
   "mimetype": "text/x-python",
   "name": "python",
   "nbconvert_exporter": "python",
   "pygments_lexer": "ipython3",
   "version": "3.11.7"
  }
 },
 "nbformat": 4,
 "nbformat_minor": 5
}
