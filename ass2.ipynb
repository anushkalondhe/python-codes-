{
 "cells": [
  {
   "cell_type": "markdown",
   "id": "e31874f8-d2bc-445a-8ecc-b1bc8e9e9cdf",
   "metadata": {},
   "source": [
    "# 1."
   ]
  },
  {
   "cell_type": "code",
   "execution_count": null,
   "id": "961f104b-cd25-430e-b07b-993e09985a4a",
   "metadata": {},
   "outputs": [],
   "source": [
    "'''create a package named 'cricket' which will contain modules names batsman and bowler\n",
    "create following functions in respective modules.import the package and call all these\n",
    "functions in your program.\n",
    "batsman:findaverage(runs,matches),strikerate(runs,balls)\n",
    "bowler:findavg(runs,wickets),economyrate(overs,runs) ''' "
   ]
  },
  {
   "cell_type": "code",
   "execution_count": 16,
   "id": "0785b25f-f3b1-43a6-8ffd-a0ec91266574",
   "metadata": {},
   "outputs": [
    {
     "name": "stdout",
     "output_type": "stream",
     "text": [
      "for batsman\n"
     ]
    },
    {
     "name": "stdin",
     "output_type": "stream",
     "text": [
      "enter runs: 120\n",
      "enter matches: 2\n",
      "enter balls: 40\n"
     ]
    },
    {
     "name": "stdout",
     "output_type": "stream",
     "text": [
      "batsman average: 60.0\n",
      "batsman strikerate: 300.0\n",
      "\n",
      "for bowler\n"
     ]
    },
    {
     "name": "stdin",
     "output_type": "stream",
     "text": [
      "enter runs: 40\n",
      "enter wickets: 4\n",
      "enter overs: 6\n"
     ]
    },
    {
     "name": "stdout",
     "output_type": "stream",
     "text": [
      "bowler average: 10.0\n",
      "batsman economyrate: 6.666666666666667\n"
     ]
    }
   ],
   "source": [
    "from cricket import batsman,bowler\n",
    "print('for batsman')\n",
    "runs=int(input('enter runs:'))\n",
    "matches=int(input('enter matches:'))\n",
    "balls=int(input('enter balls:'))\n",
    "print('batsman average:',batsman.findaverage(runs,matches))\n",
    "print('batsman strikerate:',batsman.strikerate(runs,balls))\n",
    "print('')\n",
    "print('for bowler')\n",
    "runs=int(input('enter runs:'))\n",
    "wicket=int(input('enter wickets:'))\n",
    "overs=int(input('enter overs:'))\n",
    "print('bowler average:',bowler.findavg(runs,wicket))\n",
    "print('batsman economyrate:',bowler.economyrate(overs,runs))"
   ]
  },
  {
   "cell_type": "code",
   "execution_count": null,
   "id": "d0175a1d-0c8b-450d-bdc0-27e6371158ff",
   "metadata": {},
   "outputs": [],
   "source": []
  },
  {
   "cell_type": "markdown",
   "id": "2ea48a75-1234-45ba-b847-41acd92a20f4",
   "metadata": {},
   "source": [
    "# 2."
   ]
  },
  {
   "cell_type": "code",
   "execution_count": null,
   "id": "aadb0f5b-5f55-4ec6-9bea-7bb8697734f5",
   "metadata": {},
   "outputs": [],
   "source": [
    "'''write a python function to find whether the number is prime or not\n",
    "def isPrime(num)'''"
   ]
  },
  {
   "cell_type": "code",
   "execution_count": 1,
   "id": "ea9f6641-cc7f-4ff5-a93e-486817895634",
   "metadata": {},
   "outputs": [
    {
     "name": "stdin",
     "output_type": "stream",
     "text": [
      "enter a number: 2\n"
     ]
    },
    {
     "name": "stdout",
     "output_type": "stream",
     "text": [
      "True\n"
     ]
    }
   ],
   "source": [
    "import math\n",
    "\n",
    "def isPrime(num):\n",
    "    if num<=1:\n",
    "        return False\n",
    "    for i in range(2,int(math.sqrt(num))+1):\n",
    "        if num%i==0:\n",
    "            return False  \n",
    "    return True\n",
    "\n",
    "num =int(input('enter a number:'))\n",
    "print(isPrime(num)) "
   ]
  },
  {
   "cell_type": "code",
   "execution_count": null,
   "id": "ed17b546-7e3d-43de-b48d-3a1eb600fafe",
   "metadata": {},
   "outputs": [],
   "source": []
  },
  {
   "cell_type": "markdown",
   "id": "4b14cce2-5e2d-49f5-ab7b-71804268e242",
   "metadata": {},
   "source": [
    "# 3."
   ]
  },
  {
   "cell_type": "code",
   "execution_count": null,
   "id": "b7782b0d-42f9-4242-aa50-d763d308cdc5",
   "metadata": {},
   "outputs": [],
   "source": [
    "'''write a function is_palindrome(string) that takes a string as input and returns\n",
    "true if the string reads the same backward as forward (eg..\"racecar\" is a palindrome)'''"
   ]
  },
  {
   "cell_type": "code",
   "execution_count": 2,
   "id": "b3c00674-88ad-47ed-8880-bb9c545523af",
   "metadata": {},
   "outputs": [
    {
     "name": "stdin",
     "output_type": "stream",
     "text": [
      "enter a string: MADAM\n"
     ]
    },
    {
     "data": {
      "text/plain": [
       "True"
      ]
     },
     "execution_count": 2,
     "metadata": {},
     "output_type": "execute_result"
    }
   ],
   "source": [
    "str=input('enter a string:')\n",
    "def is_palindrome(string):\n",
    "    rev=string[::-1]\n",
    "    if rev==string:\n",
    "        return True\n",
    "    else:\n",
    "        return False\n",
    "\n",
    "is_palindrome(str)\n",
    "    "
   ]
  },
  {
   "cell_type": "code",
   "execution_count": null,
   "id": "4b2ef38d-cdb7-4c30-bf9d-3b7627bc5a4b",
   "metadata": {},
   "outputs": [],
   "source": []
  },
  {
   "cell_type": "markdown",
   "id": "e9e57913-1adc-410c-b91e-cc05344a9a65",
   "metadata": {},
   "source": [
    "# 4."
   ]
  },
  {
   "cell_type": "code",
   "execution_count": null,
   "id": "620bc4f3-f38d-4c50-a036-e91ece62f785",
   "metadata": {},
   "outputs": [],
   "source": [
    "'''write a function reverse_list(data) that takes a list as input and\n",
    "returns a new list with elements in reverse order(eg..reverse_list\n",
    "([1,2,3]) returns [3,2,1])'''"
   ]
  },
  {
   "cell_type": "code",
   "execution_count": 6,
   "id": "45695719-88fc-4b74-9626-d91f9c6fd5e3",
   "metadata": {},
   "outputs": [
    {
     "name": "stdout",
     "output_type": "stream",
     "text": [
      "[3, 2, 1]\n",
      "['c', 'b', 'a']\n"
     ]
    }
   ],
   "source": [
    "def reverse_list(data):\n",
    "    return data[::-1]\n",
    "    \n",
    "print(reverse_list([1, 2, 3])) \n",
    "print(reverse_list(['a', 'b', 'c'])) "
   ]
  },
  {
   "cell_type": "code",
   "execution_count": null,
   "id": "9e2fa280-c67d-4468-9de7-7f652f06c5e2",
   "metadata": {},
   "outputs": [],
   "source": []
  },
  {
   "cell_type": "markdown",
   "id": "9152f070-515b-4958-b9a8-8676f4d4d4e8",
   "metadata": {},
   "source": [
    "# 5."
   ]
  },
  {
   "cell_type": "code",
   "execution_count": null,
   "id": "c90a5848-1bd7-4023-b3b4-81f256284f10",
   "metadata": {},
   "outputs": [],
   "source": [
    "'''write a function write_file (filename,content) that takes a filename\n",
    "and content as input and writes the content to specified file'''"
   ]
  },
  {
   "cell_type": "code",
   "execution_count": 5,
   "id": "62bfdf0a-7499-47b4-9095-aa3915649ef0",
   "metadata": {},
   "outputs": [
    {
     "name": "stdin",
     "output_type": "stream",
     "text": [
      "enter your content: Hello!!\n"
     ]
    },
    {
     "name": "stdout",
     "output_type": "stream",
     "text": [
      "content has been written!!\n"
     ]
    }
   ],
   "source": [
    "content=input('enter your content:')\n",
    "def write_file(filename, content):\n",
    "    with open(filename, 'w') as f:\n",
    "        f.write(content) \n",
    "        print('content has been written!!')\n",
    "write_file('example.txt',content)"
   ]
  },
  {
   "cell_type": "code",
   "execution_count": null,
   "id": "bf568e65-45ea-4e82-b363-83d7fb236304",
   "metadata": {},
   "outputs": [],
   "source": []
  },
  {
   "cell_type": "markdown",
   "id": "7639ad22-2f95-4bd3-833c-3115d32cc3ec",
   "metadata": {},
   "source": [
    "# 6."
   ]
  },
  {
   "cell_type": "code",
   "execution_count": null,
   "id": "f3f7ee91-c0bb-43a3-bfb2-5c0097e54be3",
   "metadata": {},
   "outputs": [],
   "source": [
    "'''  Write a function copy_file(source_filename, destination_filename) that\n",
    " takes the source and destination filenames as input and copies the content of the source\n",
    " file to the destination file. Handle cases where the source file doesn't exist.'''"
   ]
  },
  {
   "cell_type": "code",
   "execution_count": 6,
   "id": "a78a9ba2-4638-442f-8f33-2764cc57ab8b",
   "metadata": {},
   "outputs": [],
   "source": [
    "def copy_file(source_filename,destination_filename):\n",
    "    with open('source.txt','r') as s,open('destiantion.txt','w') as d:\n",
    "        for line in s:\n",
    "            d.write(line)"
   ]
  },
  {
   "cell_type": "code",
   "execution_count": 7,
   "id": "620db497-46a5-46f0-ab5e-57596ac219c2",
   "metadata": {},
   "outputs": [],
   "source": [
    "copy_file('source.txt','destination.txt')"
   ]
  },
  {
   "cell_type": "markdown",
   "id": "66cdfde6-23b1-4557-946f-9606c786d9b5",
   "metadata": {},
   "source": [
    "# 7."
   ]
  },
  {
   "cell_type": "code",
   "execution_count": null,
   "id": "02678e22-7ce8-420b-877c-daf6068755ff",
   "metadata": {},
   "outputs": [],
   "source": [
    "'''Implement a function to calculate the dot product of two NumPy arrays.'''"
   ]
  },
  {
   "cell_type": "code",
   "execution_count": 8,
   "id": "b0452463-e747-4304-81a6-72770ea80c60",
   "metadata": {},
   "outputs": [
    {
     "name": "stdout",
     "output_type": "stream",
     "text": [
      "[[  23  136  270]\n",
      " [ 225   56 5226]\n",
      " [  46  504  360]]\n"
     ]
    }
   ],
   "source": [
    "import numpy as np\n",
    "def calculate_dot_product(arr1, arr2):\n",
    "    return (arr1*arr2)\n",
    "arr1=np.array([[1,4,6],[5,1,78],[23,56,90]])\n",
    "arr2=np.array([[23,34,45],[45,56,67],[2,9,4]])\n",
    "result = calculate_dot_product(arr1, arr2)\n",
    "print(result) "
   ]
  },
  {
   "cell_type": "code",
   "execution_count": null,
   "id": "36194961-4f2f-4497-ab60-7e5e8ee2f25d",
   "metadata": {},
   "outputs": [],
   "source": []
  },
  {
   "cell_type": "markdown",
   "id": "640ad7c4-1c0a-436a-8eb2-f6044f38835f",
   "metadata": {},
   "source": [
    "# 8."
   ]
  },
  {
   "cell_type": "code",
   "execution_count": null,
   "id": "4457ede1-d310-4e31-bbc2-a624592e9f85",
   "metadata": {},
   "outputs": [],
   "source": [
    "'''  Implement a GUI with a radio button selection for choosing a favorite color (e.g., red,\n",
    " green, blue). Change the background color of the window based on the selected radio button''' "
   ]
  },
  {
   "cell_type": "code",
   "execution_count": 13,
   "id": "5329be9d-5c4a-4c1b-afa8-18eee8537c65",
   "metadata": {},
   "outputs": [],
   "source": [
    "import tkinter as tk\n",
    "from tkinter import ttk\n",
    "\n",
    "\n",
    "def change_color():\n",
    "    selected_color = color_var.get()\n",
    "    top.configure(bg=selected_color)\n",
    "\n",
    "top=tk.Tk()\n",
    "top.title('background color')\n",
    "top.geometry('550x400') \n",
    "\n",
    "color_var=tk.StringVar()\n",
    "\n",
    "colors=['red','green','blue','lavender','skyblue','pink','black']\n",
    "for color in colors:\n",
    "    radio_button=ttk.Radiobutton(top,text=color,value=color,variable=color_var\n",
    "                                ,command=change_color)\n",
    "    radio_button.pack(anchor=tk.W)\n",
    "\n",
    "\n",
    "top.mainloop()\n"
   ]
  },
  {
   "cell_type": "code",
   "execution_count": null,
   "id": "68342922-ad0c-454b-b5af-a909c95a1242",
   "metadata": {},
   "outputs": [],
   "source": []
  },
  {
   "cell_type": "markdown",
   "id": "03682345-db1b-4d4d-8913-d401b01905f6",
   "metadata": {},
   "source": [
    "# 9."
   ]
  },
  {
   "cell_type": "code",
   "execution_count": null,
   "id": "94b8e327-7679-41c1-855b-3390b9cc47dd",
   "metadata": {},
   "outputs": [],
   "source": [
    "'''  Design a currency converter GUI. Allow users to enter an amount and select the\n",
    " currencies they want to convert between (e.g., USD, EUR). Display the converted amount in the selected currency'''"
   ]
  },
  {
   "cell_type": "code",
   "execution_count": 17,
   "id": "1447fd1e-822c-4aae-bfed-0e6e5ee8450a",
   "metadata": {},
   "outputs": [],
   "source": [
    "import tkinter as tk\n",
    "from tkinter import ttk, messagebox\n",
    "import requests\n",
    "\n",
    "class CurrencyConverter(tk.Tk):\n",
    "    def __init__(self):\n",
    "        super().__init__()\n",
    "\n",
    "        self.title(\"Currency Converter\")\n",
    "        self.geometry(\"400x200\")\n",
    "\n",
    "        self.amount_label = tk.Label(self, text=\"Amount:\")\n",
    "        self.amount_label.grid(row=0, column=0, padx=10, pady=10)\n",
    "        \n",
    "        self.amount_entry = tk.Entry(self)\n",
    "        self.amount_entry.grid(row=0, column=1, padx=10, pady=10)\n",
    "\n",
    "        self.from_currency_label = tk.Label(self, text=\"From:\")\n",
    "        self.from_currency_label.grid(row=1, column=0, padx=10, pady=10)\n",
    "        \n",
    "        self.from_currency_combobox = ttk.Combobox(self, values=self.get_currency_list())\n",
    "        self.from_currency_combobox.grid(row=1, column=1, padx=10, pady=10)\n",
    "\n",
    "        self.to_currency_label = tk.Label(self, text=\"To:\")\n",
    "        self.to_currency_label.grid(row=2, column=0, padx=10, pady=10)\n",
    "        \n",
    "        self.to_currency_combobox = ttk.Combobox(self, values=self.get_currency_list())\n",
    "        self.to_currency_combobox.grid(row=2, column=1, padx=10, pady=10)\n",
    "\n",
    "        self.convert_button = tk.Button(self, text=\"Convert\", command=self.convert_currency)\n",
    "        self.convert_button.grid(row=3, column=1, padx=10, pady=10)\n",
    "\n",
    "        self.result_label = tk.Label(self, text=\"Converted Amount:\")\n",
    "        self.result_label.grid(row=4, column=0, padx=10, pady=10)\n",
    "        \n",
    "        self.result_value = tk.Label(self, text=\"\")\n",
    "        self.result_value.grid(row=4, column=1, padx=10, pady=10)\n",
    "\n",
    "    def get_currency_list(self):\n",
    "        response = requests.get('https://api.exchangerate-api.com/v4/latest/USD')\n",
    "        if response.status_code == 200:\n",
    "            data = response.json()\n",
    "            return list(data['rates'].keys())\n",
    "        else:\n",
    "            messagebox.showerror(\"Error\", \"Failed to fetch currency list\")\n",
    "            return []\n",
    "\n",
    "    def convert_currency(self):\n",
    "        try:\n",
    "            amount = float(self.amount_entry.get())\n",
    "            from_currency = self.from_currency_combobox.get()\n",
    "            to_currency = self.to_currency_combobox.get()\n",
    "\n",
    "            response = requests.get(f'https://api.exchangerate-api.com/v4/latest/{from_currency}')\n",
    "            if response.status_code == 200:\n",
    "                data = response.json()\n",
    "                rate = data['rates'][to_currency]\n",
    "                converted_amount = amount * rate\n",
    "                self.result_value.config(text=f\"{converted_amount:.2f}\")\n",
    "            else:\n",
    "                messagebox.showerror(\"Error\", \"Failed to fetch conversion rate\")\n",
    "        except ValueError:\n",
    "            messagebox.showerror(\"Error\", \"Invalid amount entered\")\n",
    "        except Exception as e:\n",
    "            messagebox.showerror(\"Error\", str(e))\n",
    "\n",
    "if __name__ == \"__main__\":\n",
    "    app = CurrencyConverter()\n",
    "    app.mainloop()\n"
   ]
  },
  {
   "cell_type": "code",
   "execution_count": null,
   "id": "0a348cd9-22fb-4b95-b78f-b00d67b3a7b4",
   "metadata": {},
   "outputs": [],
   "source": []
  },
  {
   "cell_type": "code",
   "execution_count": null,
   "id": "b97d7c48-c6b6-416a-833a-d34ee09894e0",
   "metadata": {},
   "outputs": [],
   "source": [
    "# THANK YOU!!!"
   ]
  }
 ],
 "metadata": {
  "kernelspec": {
   "display_name": "Python 3 (ipykernel)",
   "language": "python",
   "name": "python3"
  },
  "language_info": {
   "codemirror_mode": {
    "name": "ipython",
    "version": 3
   },
   "file_extension": ".py",
   "mimetype": "text/x-python",
   "name": "python",
   "nbconvert_exporter": "python",
   "pygments_lexer": "ipython3",
   "version": "3.11.7"
  }
 },
 "nbformat": 4,
 "nbformat_minor": 5
}
