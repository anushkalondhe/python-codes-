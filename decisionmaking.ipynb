{
 "cells": [
  {
   "cell_type": "code",
   "execution_count": 6,
   "id": "6c46b534-dc7e-49e5-a26f-c3d19c9e94f2",
   "metadata": {},
   "outputs": [
    {
     "name": "stdin",
     "output_type": "stream",
     "text": [
      "enter a number 89\n"
     ]
    },
    {
     "name": "stdout",
     "output_type": "stream",
     "text": [
      "ok\n"
     ]
    }
   ],
   "source": [
    "#check if a no is greater than 50 or not \n",
    "n=int(input('enter a number'))\n",
    "if n>50:\n",
    "    print('ok') "
   ]
  },
  {
   "cell_type": "code",
   "execution_count": 15,
   "id": "52f5bd64-9e81-4ee9-904e-17546af33b12",
   "metadata": {},
   "outputs": [
    {
     "name": "stdin",
     "output_type": "stream",
     "text": [
      "enter a number 7\n"
     ]
    },
    {
     "name": "stdout",
     "output_type": "stream",
     "text": [
      "positive\n"
     ]
    }
   ],
   "source": [
    "#check if a no is pos or neg\n",
    "\n",
    "n=int(input('enter a number'))\n",
    "if n>0:\n",
    "    print('positive')\n",
    "elif n==0:\n",
    "    print('zero')\n",
    "else:\n",
    "    print('negative')"
   ]
  },
  {
   "cell_type": "code",
   "execution_count": 18,
   "id": "9cb4273f-8bab-4991-bd8f-49bd4351528f",
   "metadata": {},
   "outputs": [
    {
     "name": "stdin",
     "output_type": "stream",
     "text": [
      "enter a number 0\n"
     ]
    },
    {
     "name": "stdout",
     "output_type": "stream",
     "text": [
      "even\n"
     ]
    }
   ],
   "source": [
    "#even odd\n",
    "\n",
    "n=int(input('enter a number'))\n",
    "if n%2==0:\n",
    "    print('even')\n",
    "else:\n",
    "    print('odd')\n"
   ]
  },
  {
   "cell_type": "code",
   "execution_count": 24,
   "id": "1a0c1a90-bcd7-40b4-933d-b8181ed0478b",
   "metadata": {},
   "outputs": [
    {
     "data": {
      "text/plain": [
       "0"
      ]
     },
     "execution_count": 24,
     "metadata": {},
     "output_type": "execute_result"
    }
   ],
   "source": [
    "int(False)"
   ]
  },
  {
   "cell_type": "code",
   "execution_count": 25,
   "id": "b4802abe-a9e5-4e38-b19e-ca182b5e0155",
   "metadata": {},
   "outputs": [
    {
     "data": {
      "text/plain": [
       "1"
      ]
     },
     "execution_count": 25,
     "metadata": {},
     "output_type": "execute_result"
    }
   ],
   "source": [
    "int(True)"
   ]
  },
  {
   "cell_type": "code",
   "execution_count": 21,
   "id": "f28a0f51-f652-4ddc-8499-12797b22ec89",
   "metadata": {},
   "outputs": [
    {
     "data": {
      "text/plain": [
       "0"
      ]
     },
     "execution_count": 21,
     "metadata": {},
     "output_type": "execute_result"
    }
   ],
   "source": [
    "int(False)"
   ]
  },
  {
   "cell_type": "code",
   "execution_count": 22,
   "id": "66d906bf-2541-413f-8a90-229ac552fb8b",
   "metadata": {},
   "outputs": [
    {
     "data": {
      "text/plain": [
       "1"
      ]
     },
     "execution_count": 22,
     "metadata": {},
     "output_type": "execute_result"
    }
   ],
   "source": [
    "int(True)"
   ]
  },
  {
   "cell_type": "code",
   "execution_count": 27,
   "id": "81efe982-333c-4d54-b12a-73279e464c8f",
   "metadata": {},
   "outputs": [
    {
     "name": "stdout",
     "output_type": "stream",
     "text": [
      "ok\n"
     ]
    }
   ],
   "source": [
    "a=56\n",
    "if a:\n",
    "    print('ok')"
   ]
  },
  {
   "cell_type": "code",
   "execution_count": 34,
   "id": "c9443ae0-1c29-4b43-9d47-19f816f16a3d",
   "metadata": {},
   "outputs": [
    {
     "name": "stdin",
     "output_type": "stream",
     "text": [
      "enter a number 57\n"
     ]
    },
    {
     "name": "stdout",
     "output_type": "stream",
     "text": [
      "correct\n"
     ]
    }
   ],
   "source": [
    "#check if no between 50 and 150\n",
    "\n",
    "n=int(input('enter a number'))\n",
    "if n>50:\n",
    "    if n<150:\n",
    "        print('correct')\n",
    "    else:\n",
    "        print('greater than 150')\n",
    "else:\n",
    "    print('not valid')\n"
   ]
  },
  {
   "cell_type": "code",
   "execution_count": 41,
   "id": "319f6eeb-9d89-4b68-b173-ba1960d8f8fc",
   "metadata": {},
   "outputs": [
    {
     "name": "stdin",
     "output_type": "stream",
     "text": [
      "enter purchase cost: 500\n",
      "enter selling cost: 300\n"
     ]
    },
    {
     "name": "stdout",
     "output_type": "stream",
     "text": [
      "loss 200\n"
     ]
    }
   ],
   "source": [
    "#read the purchase cost and selling cost\n",
    "#state profit or loss and how much?\n",
    "\n",
    "p=int(input('enter purchase cost:'))\n",
    "s=int(input('enter selling cost:'))\n",
    "if s>p:\n",
    "    print('profit',s-p)\n",
    "else:\n",
    "    print('loss',p-s)\n"
   ]
  },
  {
   "cell_type": "code",
   "execution_count": 57,
   "id": "bc6cf742-ec4d-4175-9644-71d2dc31fd3e",
   "metadata": {},
   "outputs": [
    {
     "name": "stdin",
     "output_type": "stream",
     "text": [
      "enter num1: 44\n",
      "enter num2: 57\n",
      "enter num3: 21\n"
     ]
    },
    {
     "name": "stdout",
     "output_type": "stream",
     "text": [
      "num2 is greater\n"
     ]
    }
   ],
   "source": [
    "#take 3 numbers find largest of them\n",
    "#without using and,or\n",
    "\n",
    "num1=int(input('enter num1:'))\n",
    "num2=int(input('enter num2:'))\n",
    "num3=int(input('enter num3:'))\n",
    "\n",
    "if num1>num2:\n",
    "    if num1>num3:\n",
    "        print('num1 is greater')\n",
    "    else:\n",
    "        print('num3 is greater')\n",
    "else:\n",
    "    if num2>num3:\n",
    "        print('num2 is greater')\n",
    "    else:\n",
    "        print('num3 is greater')"
   ]
  },
  {
   "cell_type": "code",
   "execution_count": 72,
   "id": "337f38ba-4a86-483b-ae33-d439464a1bc8",
   "metadata": {},
   "outputs": [
    {
     "name": "stdin",
     "output_type": "stream",
     "text": [
      "enter year 1800\n"
     ]
    },
    {
     "name": "stdout",
     "output_type": "stream",
     "text": [
      "centuary year but not leap\n"
     ]
    }
   ],
   "source": [
    "#wap to find if an year is leap year or not\n",
    "\n",
    "year=int(input('enter year'))\n",
    "if year%4==0:\n",
    "    if year%100==0:\n",
    "        if year%400==0:\n",
    "            print('leap centuary year')\n",
    "        else:\n",
    "            print('centuary year but not leap')\n",
    "    else:\n",
    "        print('not centuary but leap year')\n",
    "else:\n",
    "    print('not leap year')"
   ]
  },
  {
   "cell_type": "code",
   "execution_count": 83,
   "id": "d1779430-0748-4e44-aa83-a3b56a5dde10",
   "metadata": {},
   "outputs": [
    {
     "name": "stdin",
     "output_type": "stream",
     "text": [
      "enter marks 12\n"
     ]
    },
    {
     "name": "stdout",
     "output_type": "stream",
     "text": [
      "fail\n"
     ]
    }
   ],
   "source": [
    "# >60 first class\n",
    "# >50 second class\n",
    "# >40 tf\n",
    "# >35 pass\n",
    "#<=35 fail\n",
    "\n",
    "marks=int(input('enter marks'))\n",
    "if marks>=60:\n",
    "    print('first class')\n",
    "elif marks>=50:\n",
    "    print('second class')\n",
    "elif marks>=40:\n",
    "    print('third class')\n",
    "elif marks>=35:\n",
    "    print('pass')\n",
    "else:\n",
    "    print('fail')"
   ]
  },
  {
   "cell_type": "code",
   "execution_count": 91,
   "id": "f52b4b42-09f2-469e-944c-d37f0dc2aa5c",
   "metadata": {},
   "outputs": [
    {
     "name": "stdin",
     "output_type": "stream",
     "text": [
      "enter the number 100\n"
     ]
    },
    {
     "name": "stdout",
     "output_type": "stream",
     "text": [
      "MENU\n",
      "1.square\n",
      "2.cube\n",
      "3.positive or negative\n"
     ]
    },
    {
     "name": "stdin",
     "output_type": "stream",
     "text": [
      "enter your choice 10\n"
     ]
    },
    {
     "name": "stdout",
     "output_type": "stream",
     "text": [
      "invalid choice\n"
     ]
    }
   ],
   "source": [
    "#menu driven\n",
    "'''\n",
    "based on the choice it'll square,cube or check =ve or -ve\n",
    "'''\n",
    "\n",
    "num=int(input('enter the number'))\n",
    "print('MENU\\n1.square\\n2.cube\\n3.positive or negative')\n",
    "choice=int(input('enter your choice'))\n",
    "if choice==1:\n",
    "    print('square is',num*num)\n",
    "elif choice==2:\n",
    "    print('cube is',num**3)\n",
    "elif choice==3:\n",
    "    if num>0:\n",
    "        print('positive')\n",
    "    else:\n",
    "        print('negative')\n",
    "else:\n",
    "    print('invalid choice')"
   ]
  },
  {
   "cell_type": "code",
   "execution_count": 120,
   "id": "de96a95a-2cbe-4ecc-8217-7937330c8e4e",
   "metadata": {},
   "outputs": [
    {
     "name": "stdin",
     "output_type": "stream",
     "text": [
      "enter 1st number 2\n",
      "enter 2nd number 4\n"
     ]
    },
    {
     "name": "stdout",
     "output_type": "stream",
     "text": [
      "MENU\n",
      "1.addition\n",
      "2.subtraction\n",
      "3.floor division\n",
      "4.greater amon both\n"
     ]
    },
    {
     "name": "stdin",
     "output_type": "stream",
     "text": [
      "enter choice 5\n"
     ]
    },
    {
     "name": "stdout",
     "output_type": "stream",
     "text": [
      "invalid\n"
     ]
    }
   ],
   "source": [
    "#read 2 numbers perform add,sub,floor div,greater based on choice\n",
    "\n",
    "num1=int(input('enter 1st number'))\n",
    "num2=int(input('enter 2nd number'))\n",
    "print('MENU\\n1.addition\\n2.subtraction\\n3.floor division\\n4.greater amon both')\n",
    "choice=int(input('enter choice'))\n",
    "if choice==1:\n",
    "           print('addition=',num1+num2)\n",
    "elif choice==2:\n",
    "   print('subtraction=',num1-num2)\n",
    "elif choice==3:\n",
    "    print('division=',num1//num2)\n",
    "elif choice==4:\n",
    "   if num1>num2:\n",
    "     print('num1 is greater')\n",
    "   else:\n",
    "       print('num2 greater')\n",
    "else:\n",
    "    print('invalid')"
   ]
  },
  {
   "cell_type": "code",
   "execution_count": null,
   "id": "8691a75a-8b21-44a2-a15e-c9a084695a01",
   "metadata": {},
   "outputs": [],
   "source": []
  }
 ],
 "metadata": {
  "kernelspec": {
   "display_name": "Python 3 (ipykernel)",
   "language": "python",
   "name": "python3"
  },
  "language_info": {
   "codemirror_mode": {
    "name": "ipython",
    "version": 3
   },
   "file_extension": ".py",
   "mimetype": "text/x-python",
   "name": "python",
   "nbconvert_exporter": "python",
   "pygments_lexer": "ipython3",
   "version": "3.11.7"
  }
 },
 "nbformat": 4,
 "nbformat_minor": 5
}
