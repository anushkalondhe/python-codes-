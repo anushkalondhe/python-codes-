{
 "cells": [
  {
   "cell_type": "code",
   "execution_count": 1,
   "id": "e29008f1-a150-4904-8264-9a86727c30d5",
   "metadata": {},
   "outputs": [
    {
     "ename": "FileNotFoundError",
     "evalue": "[Errno 2] No such file or directory: 'all.txt'",
     "output_type": "error",
     "traceback": [
      "\u001b[1;31m---------------------------------------------------------------------------\u001b[0m",
      "\u001b[1;31mFileNotFoundError\u001b[0m                         Traceback (most recent call last)",
      "Cell \u001b[1;32mIn[1], line 1\u001b[0m\n\u001b[1;32m----> 1\u001b[0m f\u001b[38;5;241m=\u001b[39m\u001b[38;5;28mopen\u001b[39m(\u001b[38;5;124m'\u001b[39m\u001b[38;5;124mall.txt\u001b[39m\u001b[38;5;124m'\u001b[39m)\n",
      "File \u001b[1;32m~\\anaconda3\\Lib\\site-packages\\IPython\\core\\interactiveshell.py:310\u001b[0m, in \u001b[0;36m_modified_open\u001b[1;34m(file, *args, **kwargs)\u001b[0m\n\u001b[0;32m    303\u001b[0m \u001b[38;5;28;01mif\u001b[39;00m file \u001b[38;5;129;01min\u001b[39;00m {\u001b[38;5;241m0\u001b[39m, \u001b[38;5;241m1\u001b[39m, \u001b[38;5;241m2\u001b[39m}:\n\u001b[0;32m    304\u001b[0m     \u001b[38;5;28;01mraise\u001b[39;00m \u001b[38;5;167;01mValueError\u001b[39;00m(\n\u001b[0;32m    305\u001b[0m         \u001b[38;5;124mf\u001b[39m\u001b[38;5;124m\"\u001b[39m\u001b[38;5;124mIPython won\u001b[39m\u001b[38;5;124m'\u001b[39m\u001b[38;5;124mt let you open fd=\u001b[39m\u001b[38;5;132;01m{\u001b[39;00mfile\u001b[38;5;132;01m}\u001b[39;00m\u001b[38;5;124m by default \u001b[39m\u001b[38;5;124m\"\u001b[39m\n\u001b[0;32m    306\u001b[0m         \u001b[38;5;124m\"\u001b[39m\u001b[38;5;124mas it is likely to crash IPython. If you know what you are doing, \u001b[39m\u001b[38;5;124m\"\u001b[39m\n\u001b[0;32m    307\u001b[0m         \u001b[38;5;124m\"\u001b[39m\u001b[38;5;124myou can use builtins\u001b[39m\u001b[38;5;124m'\u001b[39m\u001b[38;5;124m open.\u001b[39m\u001b[38;5;124m\"\u001b[39m\n\u001b[0;32m    308\u001b[0m     )\n\u001b[1;32m--> 310\u001b[0m \u001b[38;5;28;01mreturn\u001b[39;00m io_open(file, \u001b[38;5;241m*\u001b[39margs, \u001b[38;5;241m*\u001b[39m\u001b[38;5;241m*\u001b[39mkwargs)\n",
      "\u001b[1;31mFileNotFoundError\u001b[0m: [Errno 2] No such file or directory: 'all.txt'"
     ]
    }
   ],
   "source": [
    "f=open('all.txt')"
   ]
  },
  {
   "cell_type": "code",
   "execution_count": 3,
   "id": "322f31b7-c30c-45d0-a5b2-e0856774813c",
   "metadata": {},
   "outputs": [
    {
     "name": "stdout",
     "output_type": "stream",
     "text": [
      "there is no such file\n"
     ]
    }
   ],
   "source": [
    "try:\n",
    "    f=open('all.txt')\n",
    "except Exception:\n",
    "    print('there is no such file')"
   ]
  },
  {
   "cell_type": "code",
   "execution_count": 4,
   "id": "a71c6d1b-a47e-4e4f-96c1-cb9816c094fa",
   "metadata": {},
   "outputs": [
    {
     "name": "stdout",
     "output_type": "stream",
     "text": [
      "there is no such file\n"
     ]
    }
   ],
   "source": [
    "try:\n",
    "    f=open('all.txt')\n",
    "    var=var1\n",
    "except Exception:\n",
    "    print('there is no such file')"
   ]
  },
  {
   "cell_type": "code",
   "execution_count": 5,
   "id": "6e18495e-d694-4876-86b7-e4b8efd75691",
   "metadata": {},
   "outputs": [
    {
     "ename": "NameError",
     "evalue": "name 'var1' is not defined",
     "output_type": "error",
     "traceback": [
      "\u001b[1;31m---------------------------------------------------------------------------\u001b[0m",
      "\u001b[1;31mNameError\u001b[0m                                 Traceback (most recent call last)",
      "Cell \u001b[1;32mIn[5], line 3\u001b[0m\n\u001b[0;32m      1\u001b[0m \u001b[38;5;28;01mtry\u001b[39;00m:\n\u001b[0;32m      2\u001b[0m     f\u001b[38;5;241m=\u001b[39m\u001b[38;5;28mopen\u001b[39m(\u001b[38;5;124m'\u001b[39m\u001b[38;5;124manu.txt\u001b[39m\u001b[38;5;124m'\u001b[39m)\n\u001b[1;32m----> 3\u001b[0m     var\u001b[38;5;241m=\u001b[39mvar1\n\u001b[0;32m      4\u001b[0m \u001b[38;5;28;01mexcept\u001b[39;00m \u001b[38;5;167;01mFileNotFoundError\u001b[39;00m:\n\u001b[0;32m      5\u001b[0m     \u001b[38;5;28mprint\u001b[39m(\u001b[38;5;124m'\u001b[39m\u001b[38;5;124mthere is no such file\u001b[39m\u001b[38;5;124m'\u001b[39m)\n",
      "\u001b[1;31mNameError\u001b[0m: name 'var1' is not defined"
     ]
    }
   ],
   "source": [
    "try:\n",
    "    f=open('anu.txt')\n",
    "    var=var1\n",
    "except FileNotFoundError:\n",
    "    print('there is no such file')"
   ]
  },
  {
   "cell_type": "code",
   "execution_count": 6,
   "id": "afc5bfa0-3fd8-4620-ab02-11003568473f",
   "metadata": {},
   "outputs": [
    {
     "name": "stdout",
     "output_type": "stream",
     "text": [
      "invalid\n"
     ]
    }
   ],
   "source": [
    "try:\n",
    "    f=open('anu.txt')\n",
    "    var=var1\n",
    "except FileNotFoundError:\n",
    "    print('there is no such file')\n",
    "except NameError:\n",
    "    print('invalid')"
   ]
  },
  {
   "cell_type": "code",
   "execution_count": 8,
   "id": "6ffba0f3-a873-4c97-9c57-8b73b3bcac4a",
   "metadata": {},
   "outputs": [
    {
     "name": "stdout",
     "output_type": "stream",
     "text": [
      "name 'var1' is not defined\n"
     ]
    }
   ],
   "source": [
    "try:\n",
    "    f=open('anu.txt')\n",
    "    var=var1\n",
    "except FileNotFoundError:\n",
    "    print('there is no such file')\n",
    "except Exception as e:\n",
    "    print(e)"
   ]
  },
  {
   "cell_type": "code",
   "execution_count": 9,
   "id": "47a061d0-7722-4e53-a7cc-6ac139b81e1c",
   "metadata": {},
   "outputs": [
    {
     "name": "stdout",
     "output_type": "stream",
     "text": [
      "Dance is an art form, often classified as a sport, consisting of sequences of body movements with aesthetic and often symbolic value, either improvised or purposefully selected.[nb 1] Dance can be categorized and described by its choreography, by its repertoire of movements or by its historical period or place of origin.[3] Dance is typically performed with musical accompaniment, and sometimes with the dancer simultaneously using a musical instrument themselves.\n",
      "\n",
      "An important distinction is to be drawn between theatrical and participatory dance,[4] although these two categories are not always completely separate; both may have special functions, whether social, ceremonial, competitive, erotic, martial, sacred or liturgical. Other forms of human movement are sometimes said to have a dance-like quality, including martial arts, gymnastics, cheerleading, figure skating, synchronized swimming, marching bands, and many other forms of athletics. Dance is not solely restricted to performance, as dance is used as a form of exercise and occasionally training for other sports and activities. Dance has become a sport for some, with dancing competitions found across the world exhibiting various different styles and standards. Dance has an aesthetic appeal to many people.[5]\n"
     ]
    }
   ],
   "source": [
    "try:\n",
    "    f=open('anu.txt')\n",
    "except FileNotFoundError:\n",
    "    print('there is no such file')\n",
    "else:\n",
    "    print(f.read())\n",
    "    f.close()"
   ]
  },
  {
   "cell_type": "code",
   "execution_count": 11,
   "id": "17be785a-f0d4-4f25-8602-f212e8c15f16",
   "metadata": {},
   "outputs": [
    {
     "name": "stdout",
     "output_type": "stream",
     "text": [
      "there is no such file\n",
      "finally\n"
     ]
    }
   ],
   "source": [
    "try:\n",
    "    f=open('file.txt')\n",
    "except FileNotFoundError:\n",
    "    print('there is no such file')\n",
    "else:\n",
    "    print('ok')\n",
    "finally:\n",
    "    print('finally')"
   ]
  },
  {
   "cell_type": "code",
   "execution_count": null,
   "id": "1bb9c233-458d-4485-a907-77b5f0fd3c73",
   "metadata": {},
   "outputs": [],
   "source": []
  }
 ],
 "metadata": {
  "kernelspec": {
   "display_name": "Python 3 (ipykernel)",
   "language": "python",
   "name": "python3"
  },
  "language_info": {
   "codemirror_mode": {
    "name": "ipython",
    "version": 3
   },
   "file_extension": ".py",
   "mimetype": "text/x-python",
   "name": "python",
   "nbconvert_exporter": "python",
   "pygments_lexer": "ipython3",
   "version": "3.11.7"
  }
 },
 "nbformat": 4,
 "nbformat_minor": 5
}
