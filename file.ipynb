{
 "cells": [
  {
   "cell_type": "code",
   "execution_count": 3,
   "id": "c975596c-a083-45ae-8e2d-8886c7b83880",
   "metadata": {},
   "outputs": [],
   "source": [
    "f=open('anu.txt','r')"
   ]
  },
  {
   "cell_type": "code",
   "execution_count": 4,
   "id": "31da90cf-2dcd-48f0-9a4c-d037149f3312",
   "metadata": {},
   "outputs": [
    {
     "name": "stdout",
     "output_type": "stream",
     "text": [
      "anu.txt\n"
     ]
    }
   ],
   "source": [
    "print(f.name)"
   ]
  },
  {
   "cell_type": "code",
   "execution_count": 5,
   "id": "d07a0003-63fa-4b7e-9434-ae1c1810f979",
   "metadata": {},
   "outputs": [
    {
     "name": "stdout",
     "output_type": "stream",
     "text": [
      "Dance is an art form, often classified as a sport, consisting of sequences of body movements with aesthetic and often symbolic value, either improvised or purposefully selected.[nb 1] Dance can be categorized and described by its choreography, by its repertoire of movements or by its historical period or place of origin.[3] Dance is typically performed with musical accompaniment, and sometimes with the dancer simultaneously using a musical instrument themselves.\n",
      "\n",
      "An important distinction is to be drawn between theatrical and participatory dance,[4] although these two categories are not always completely separate; both may have special functions, whether social, ceremonial, competitive, erotic, martial, sacred or liturgical. Other forms of human movement are sometimes said to have a dance-like quality, including martial arts, gymnastics, cheerleading, figure skating, synchronized swimming, marching bands, and many other forms of athletics. Dance is not solely restricted to performance, as dance is used as a form of exercise and occasionally training for other sports and activities. Dance has become a sport for some, with dancing competitions found across the world exhibiting various different styles and standards. Dance has an aesthetic appeal to many people.[5]\n"
     ]
    }
   ],
   "source": [
    "print(f.read())"
   ]
  },
  {
   "cell_type": "code",
   "execution_count": 6,
   "id": "42cdd2eb-65de-4e1a-af32-7aa268688ebd",
   "metadata": {},
   "outputs": [
    {
     "name": "stdout",
     "output_type": "stream",
     "text": [
      "r\n"
     ]
    }
   ],
   "source": [
    "print(f.mode)"
   ]
  },
  {
   "cell_type": "code",
   "execution_count": 9,
   "id": "9c92d8ae-6391-468f-856f-bff56a150efa",
   "metadata": {},
   "outputs": [],
   "source": [
    "f.close()"
   ]
  },
  {
   "cell_type": "code",
   "execution_count": 10,
   "id": "cd782eab-d18a-4ed3-816a-04ade4d5cd9e",
   "metadata": {},
   "outputs": [
    {
     "data": {
      "text/plain": [
       "True"
      ]
     },
     "execution_count": 10,
     "metadata": {},
     "output_type": "execute_result"
    }
   ],
   "source": [
    "f.closed"
   ]
  },
  {
   "cell_type": "code",
   "execution_count": null,
   "id": "19bb78b3-735c-4373-8a4f-f5e0532ce34b",
   "metadata": {},
   "outputs": [],
   "source": [
    "# open with context manager"
   ]
  },
  {
   "cell_type": "code",
   "execution_count": 12,
   "id": "415fd523-a0ad-46a6-892c-3b131c9c2f75",
   "metadata": {},
   "outputs": [],
   "source": [
    "with open('anu.txt','r') as f:\n",
    "    pass "
   ]
  },
  {
   "cell_type": "code",
   "execution_count": 13,
   "id": "95e3435e-4718-4af9-9189-d0dabbdb5f65",
   "metadata": {},
   "outputs": [
    {
     "data": {
      "text/plain": [
       "True"
      ]
     },
     "execution_count": 13,
     "metadata": {},
     "output_type": "execute_result"
    }
   ],
   "source": [
    "f.closed"
   ]
  },
  {
   "cell_type": "code",
   "execution_count": 14,
   "id": "697b4d25-e276-473e-ad68-78114c367813",
   "metadata": {},
   "outputs": [
    {
     "name": "stdout",
     "output_type": "stream",
     "text": [
      "Dance is an art form, often classified as a sport, consisting of sequences of body movements with aesthetic and often symbolic value, either improvised or purposefully selected.[nb 1] Dance can be categorized and described by its choreography, by its repertoire of movements or by its historical period or place of origin.[3] Dance is typically performed with musical accompaniment, and sometimes with the dancer simultaneously using a musical instrument themselves.\n",
      "\n",
      "An important distinction is to be drawn between theatrical and participatory dance,[4] although these two categories are not always completely separate; both may have special functions, whether social, ceremonial, competitive, erotic, martial, sacred or liturgical. Other forms of human movement are sometimes said to have a dance-like quality, including martial arts, gymnastics, cheerleading, figure skating, synchronized swimming, marching bands, and many other forms of athletics. Dance is not solely restricted to performance, as dance is used as a form of exercise and occasionally training for other sports and activities. Dance has become a sport for some, with dancing competitions found across the world exhibiting various different styles and standards. Dance has an aesthetic appeal to many people.[5]\n"
     ]
    }
   ],
   "source": [
    "with open('anu.txt','r') as f:\n",
    "    content=f.read()\n",
    "    print(content)"
   ]
  },
  {
   "cell_type": "code",
   "execution_count": 15,
   "id": "c2e730f6-8daf-4176-801c-a0bcf82fda70",
   "metadata": {},
   "outputs": [
    {
     "name": "stdout",
     "output_type": "stream",
     "text": [
      "['Dance is an art form, often classified as a sport, consisting of sequences of body movements with aesthetic and often symbolic value, either improvised or purposefully selected.[nb 1] Dance can be categorized and described by its choreography, by its repertoire of movements or by its historical period or place of origin.[3] Dance is typically performed with musical accompaniment, and sometimes with the dancer simultaneously using a musical instrument themselves.\\n', '\\n', 'An important distinction is to be drawn between theatrical and participatory dance,[4] although these two categories are not always completely separate; both may have special functions, whether social, ceremonial, competitive, erotic, martial, sacred or liturgical. Other forms of human movement are sometimes said to have a dance-like quality, including martial arts, gymnastics, cheerleading, figure skating, synchronized swimming, marching bands, and many other forms of athletics. Dance is not solely restricted to performance, as dance is used as a form of exercise and occasionally training for other sports and activities. Dance has become a sport for some, with dancing competitions found across the world exhibiting various different styles and standards. Dance has an aesthetic appeal to many people.[5]']\n"
     ]
    }
   ],
   "source": [
    "with open('anu.txt','r') as f:\n",
    "    content=f.readlines()                        #\\n on new line\n",
    "    print(content)"
   ]
  },
  {
   "cell_type": "code",
   "execution_count": 16,
   "id": "597620b3-dae8-49d5-aad6-f109d4c88b03",
   "metadata": {},
   "outputs": [
    {
     "name": "stdout",
     "output_type": "stream",
     "text": [
      "Dance is an art form, often classified as a sport, consisting of sequences of body movements with aesthetic and often symbolic value, either improvised or purposefully selected.[nb 1] Dance can be categorized and described by its choreography, by its repertoire of movements or by its historical period or place of origin.[3] Dance is typically performed with musical accompaniment, and sometimes with the dancer simultaneously using a musical instrument themselves.\n",
      "\n"
     ]
    }
   ],
   "source": [
    "with open('anu.txt','r') as f:\n",
    "    content=f.readlines()                        #\\n on new line\n",
    "    print(content)"
   ]
  },
  {
   "cell_type": "code",
   "execution_count": 18,
   "id": "4386f066-c1d6-40f5-ade2-813f5e22b6a8",
   "metadata": {},
   "outputs": [
    {
     "name": "stdout",
     "output_type": "stream",
     "text": [
      "hello this is Anushka \n",
      "\n"
     ]
    }
   ],
   "source": [
    "with open('file2.txt','r') as f:\n",
    "    content=f.readline()                       \n",
    "    print(content)"
   ]
  },
  {
   "cell_type": "code",
   "execution_count": 20,
   "id": "96d757eb-b5eb-44d0-9bd6-70e262fba877",
   "metadata": {},
   "outputs": [
    {
     "name": "stdout",
     "output_type": "stream",
     "text": [
      "hello this is Anushka \n",
      "from pcp\n",
      "\n"
     ]
    }
   ],
   "source": [
    "with open('file2.txt','r') as f:\n",
    "    content=f.readline()                       \n",
    "    print(content,end='')\n",
    "    content=f.readline()\n",
    "    print(content)"
   ]
  },
  {
   "cell_type": "code",
   "execution_count": 22,
   "id": "1b061f79-89c9-4375-ba73-4976a41d79f9",
   "metadata": {},
   "outputs": [
    {
     "name": "stdout",
     "output_type": "stream",
     "text": [
      "hello this is Anushka \n",
      "from pcp\n",
      "pune,india"
     ]
    }
   ],
   "source": [
    "with open('file2.txt','r') as f:\n",
    "    for line in f:\n",
    "        print(line,end='')"
   ]
  },
  {
   "cell_type": "code",
   "execution_count": 23,
   "id": "b77841f1-35f2-468b-9e75-b75fdfc60834",
   "metadata": {},
   "outputs": [],
   "source": [
    "# read the 3 char "
   ]
  },
  {
   "cell_type": "code",
   "execution_count": 26,
   "id": "c5aad96e-19b7-478f-876d-b0906330d81c",
   "metadata": {},
   "outputs": [
    {
     "name": "stdout",
     "output_type": "stream",
     "text": [
      "hel\n"
     ]
    }
   ],
   "source": [
    "with open('file2.txt','r') as f:\n",
    "    content=f.read(3)\n",
    "    print(content)"
   ]
  },
  {
   "cell_type": "code",
   "execution_count": 27,
   "id": "ce1b8d2c-2d8b-47c6-950f-e073a26d0a7b",
   "metadata": {},
   "outputs": [],
   "source": [
    "# use while loop to read entire file...5 char at a time"
   ]
  },
  {
   "cell_type": "code",
   "execution_count": 40,
   "id": "35c54707-6adf-423b-81a7-8dd2603b2155",
   "metadata": {},
   "outputs": [
    {
     "name": "stdout",
     "output_type": "stream",
     "text": [
      "hello* this* is A*nushk*a \n",
      "fr*om pc*p\n",
      "pun*e,ind*ia*"
     ]
    }
   ],
   "source": [
    "with open('file2.txt','r') as f:\n",
    "    size=5\n",
    "    content=f.read(size)\n",
    "    while len(content)>0:\n",
    "        print(content,end='*')\n",
    "        content=f.read(size)"
   ]
  },
  {
   "cell_type": "code",
   "execution_count": 45,
   "id": "f25516dc-a340-4472-bd2e-46df689316e3",
   "metadata": {},
   "outputs": [
    {
     "name": "stdout",
     "output_type": "stream",
     "text": [
      "hello\n",
      "hello\n"
     ]
    }
   ],
   "source": [
    "#start from begining\n",
    "\n",
    "with open('file2.txt','r') as f:\n",
    "    size=5\n",
    "    content=f.read(size)\n",
    "    print(content)\n",
    "    f.seek(0)\n",
    "    content=f.read(size)\n",
    "    print(content)"
   ]
  },
  {
   "cell_type": "code",
   "execution_count": 44,
   "id": "ed567bb6-86bc-41ce-9778-7ca1466df055",
   "metadata": {},
   "outputs": [],
   "source": [
    "#write"
   ]
  },
  {
   "cell_type": "code",
   "execution_count": 46,
   "id": "d58a11c7-ea06-4d83-a8d5-c5ca8b63feff",
   "metadata": {},
   "outputs": [],
   "source": [
    "with open ('write.txt','w') as w:\n",
    "    pass"
   ]
  },
  {
   "cell_type": "code",
   "execution_count": 50,
   "id": "054f7ffe-e12d-429e-a1c3-8a43a664fcb1",
   "metadata": {},
   "outputs": [],
   "source": [
    "with open ('write.txt','w') as w:\n",
    "    w.write('my name is anushka')\n",
    "    w.write('my name is anu')\n",
    "    "
   ]
  },
  {
   "cell_type": "code",
   "execution_count": 1,
   "id": "cba175ff-4568-44ff-990c-ca950c7917d0",
   "metadata": {},
   "outputs": [],
   "source": [
    "with open ('write.txt','w') as w:\n",
    "    w.write('my name is anushka')\n",
    "    w.seek(0)\n",
    "    w.write('abcd')"
   ]
  },
  {
   "cell_type": "code",
   "execution_count": 2,
   "id": "7c69bdcd-bf73-45f0-9e5f-5a1f37a3e19c",
   "metadata": {},
   "outputs": [],
   "source": [
    "#create a file which will be the copy of maha.txt"
   ]
  },
  {
   "cell_type": "code",
   "execution_count": 1,
   "id": "2c99b120-69b5-4094-b529-f25aed209ce7",
   "metadata": {},
   "outputs": [],
   "source": [
    "with open ('anu.txt','r')as rf:\n",
    "    with open('anu_copy.txt','w')as w:\n",
    "        for line in rf:\n",
    "            w.write(line) "
   ]
  },
  {
   "cell_type": "code",
   "execution_count": 4,
   "id": "6c1ccdc2-6ea2-4cc7-91a5-e3e616931ce3",
   "metadata": {},
   "outputs": [],
   "source": [
    "#image "
   ]
  },
  {
   "cell_type": "code",
   "execution_count": 16,
   "id": "413d5f2c-3464-4c3e-82d5-53599c1d3959",
   "metadata": {},
   "outputs": [
    {
     "ename": "SyntaxError",
     "evalue": "(unicode error) 'unicodeescape' codec can't decode bytes in position 2-3: truncated \\UXXXXXXXX escape (385977242.py, line 1)",
     "output_type": "error",
     "traceback": [
      "\u001b[1;36m  Cell \u001b[1;32mIn[16], line 1\u001b[1;36m\u001b[0m\n\u001b[1;33m    with open ('C:\\Users\\anush\\OneDrive\\Pictures\\7751113951e54f03bb7390316decc6d0~tplv-photomode-zoomcover_720_720.jpeg','rb')as f:\u001b[0m\n\u001b[1;37m                                                                                                                        ^\u001b[0m\n\u001b[1;31mSyntaxError\u001b[0m\u001b[1;31m:\u001b[0m (unicode error) 'unicodeescape' codec can't decode bytes in position 2-3: truncated \\UXXXXXXXX escape\n"
     ]
    }
   ],
   "source": [
    "with open ('C:\\Users\\anush\\OneDrive\\Pictures\\7751113951e54f03bb7390316decc6d0~tplv-photomode-zoomcover_720_720.jpeg','rb')as f:\n",
    "    with open ('wall_copy','wb') as w:\n",
    "        for line in f:\n",
    "            w.write(line)"
   ]
  },
  {
   "cell_type": "code",
   "execution_count": null,
   "id": "5bab132d-39af-4fc5-8c73-e143d1232e2f",
   "metadata": {},
   "outputs": [],
   "source": []
  }
 ],
 "metadata": {
  "kernelspec": {
   "display_name": "Python 3 (ipykernel)",
   "language": "python",
   "name": "python3"
  },
  "language_info": {
   "codemirror_mode": {
    "name": "ipython",
    "version": 3
   },
   "file_extension": ".py",
   "mimetype": "text/x-python",
   "name": "python",
   "nbconvert_exporter": "python",
   "pygments_lexer": "ipython3",
   "version": "3.11.7"
  }
 },
 "nbformat": 4,
 "nbformat_minor": 5
}
