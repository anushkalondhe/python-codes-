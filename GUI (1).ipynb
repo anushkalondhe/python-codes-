{
 "cells": [
  {
   "cell_type": "code",
   "execution_count": 2,
   "id": "16094ef1-5d4a-4bc8-b103-f48393c352ea",
   "metadata": {},
   "outputs": [],
   "source": [
    "import tkinter as tk\n",
    "from tkinter import BooleanVar\n",
    "from tkinter.ttk import *\n",
    "from tkinter import scrolledtext\n",
    "from tkinter import messagebox"
   ]
  },
  {
   "cell_type": "code",
   "execution_count": 6,
   "id": "4547f2c7-6ced-4987-a0a9-f629ad163db4",
   "metadata": {},
   "outputs": [],
   "source": [
    "top=tk.Tk()\n",
    "\n",
    "top.title('My Application')\n",
    "top.geometry('500x400')\n",
    "b1=tk.Button(top,text='click me!!',bg='lavender').grid(column=0,row=1)            \n",
    "e1=tk.Entry(top).grid(column=1,row=1) \n",
    "t1=tk.Text(top).grid(column=2,row=1) \n",
    "l1=tk.Label(top,text='welcome',font=('Ariel Bold',50)).grid(column=2,row=2)\n",
    "        \n",
    "\n",
    "#combobox\n",
    "\n",
    "combo=Combobox(top)\n",
    "combo['values']=[1,2,3,4,'next']\n",
    "combo.current(2)\n",
    "combo.grid(column=0,row=0)\n",
    "\n",
    "#checkbutton\n",
    "ch=BooleanVar()\n",
    "ch.set(True) \n",
    "cb=Checkbutton(top,text='Done',var=ch,width=30).grid(column=0,row=0) \n",
    "\n",
    "#scrolled text\n",
    "st=scrolledtext.ScrolledText(top,width=40,height=20).grid(column=3,row=3)\n",
    "\n",
    "\n",
    "top.mainloop()"
   ]
  },
  {
   "cell_type": "code",
   "execution_count": 5,
   "id": "b68a445c-de44-4a9e-a433-6a5034d60811",
   "metadata": {},
   "outputs": [],
   "source": [
    "#square of a number\n",
    "\n",
    "top=tk.Tk()\n",
    "top.title('Square')\n",
    "top.geometry('500x400') \n",
    "\n",
    "a=tk.IntVar()\n",
    "def square():\n",
    "    num=a.get()\n",
    "    sq=num*num\n",
    "    result=tk.Label(top,text='Square is %i'%sq).place(x=120,y=170)\n",
    "    messagebox.showinfo(\"result\",\"square is %i\"%sq)\n",
    "l=tk.Label(top,text='input').place(x=20,y=100)\n",
    "e=tk.Entry(top,text=a).place(x=100,y=100)\n",
    "b=tk.Button(top,text='submit',bg='lavender',command=square).place(x=120,y=150) \n",
    "\n",
    "top.mainloop() \n"
   ]
  },
  {
   "cell_type": "code",
   "execution_count": null,
   "id": "a793333b-eb89-4498-b6f0-212003f27cae",
   "metadata": {},
   "outputs": [],
   "source": []
  },
  {
   "cell_type": "code",
   "execution_count": 7,
   "id": "2787c4b2-4922-4a1e-9c48-0d3a1b1ec217",
   "metadata": {},
   "outputs": [],
   "source": [
    "#create for add,sub,mul,div of 2 numbers\n",
    "\n",
    "top=tk.Tk()\n",
    "top.title('arithmetic operations') \n",
    "top.geometry('500x400')\n",
    "\n",
    "#https://codeshare.io/adi123 \n",
    "\n",
    "a1=tk.IntVar()\n",
    "a2=tk.IntVar()\n",
    "\n",
    "def add():\n",
    "    ad=a1.get()+a2.get()\n",
    "    messagebox.showinfo(\"result\",\"addition is %i\"%ad)\n",
    "\n",
    "def sub():\n",
    "    sb=a1.get()-a2.get()\n",
    "    messagebox.showinfo(\"result\",\"subtraction is %i\"%sb)\n",
    "\n",
    "def mul():\n",
    "    ml=a1.get()*a2.get()\n",
    "    messagebox.showinfo(\"result\",\"multiplication is %i\"%ml)\n",
    "\n",
    "def div():\n",
    "    dv=a1.get()//a2.get()\n",
    "    messagebox.showinfo(\"result\",\"division is %i\"%dv)\n",
    "\n",
    "l=tk.Label(top,text='input').place(x=20,y=100)\n",
    "l1=tk.Label(top,text='input').place(x=20,y=130)\n",
    "\n",
    "e=tk.Entry(top,textvariable=a1).place(x=100,y=100)\n",
    "e1=tk.Entry(top,textvariable=a2).place(x=100,y=130)\n",
    "\n",
    "b=tk.Button(top,text='submit for addition',bg='orange',command=add).place(x=120,y=180)\n",
    "b=tk.Button(top,text='submit for subtraction',bg='lavender',command=sub).place(x=120,y=200)\n",
    "b=tk.Button(top,text='submit for multiplication',bg='yellow',command=mul).place(x=120,y=220)\n",
    "b=tk.Button(top,text='submit for division',bg='red',command=div).place(x=120,y=240)\n",
    "\n",
    "top.mainloop() \n",
    "\n"
   ]
  },
  {
   "cell_type": "code",
   "execution_count": null,
   "id": "98f1f9ad-46e1-45fc-ae19-e8ce3c683ed5",
   "metadata": {},
   "outputs": [],
   "source": []
  }
 ],
 "metadata": {
  "kernelspec": {
   "display_name": "Python 3 (ipykernel)",
   "language": "python",
   "name": "python3"
  },
  "language_info": {
   "codemirror_mode": {
    "name": "ipython",
    "version": 3
   },
   "file_extension": ".py",
   "mimetype": "text/x-python",
   "name": "python",
   "nbconvert_exporter": "python",
   "pygments_lexer": "ipython3",
   "version": "3.11.7"
  }
 },
 "nbformat": 4,
 "nbformat_minor": 5
}
