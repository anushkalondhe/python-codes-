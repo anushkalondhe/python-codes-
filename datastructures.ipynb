{
 "cells": [
  {
   "cell_type": "code",
   "execution_count": 7,
   "id": "8c6fbb5c-6732-4846-be81-2e429aa1cee1",
   "metadata": {},
   "outputs": [
    {
     "name": "stdout",
     "output_type": "stream",
     "text": [
      "[1, 2, 3, 4, 5, 'anu', 32, False, 32, 32]\n"
     ]
    }
   ],
   "source": [
    "l=[1,2,3,4,5,'anu',32,False,32,32]\n",
    "print(l)"
   ]
  },
  {
   "cell_type": "code",
   "execution_count": 2,
   "id": "2a295c20-277d-42bb-9c71-cf4fbf95d2ec",
   "metadata": {},
   "outputs": [
    {
     "data": {
      "text/plain": [
       "list"
      ]
     },
     "execution_count": 2,
     "metadata": {},
     "output_type": "execute_result"
    }
   ],
   "source": [
    "type(l)"
   ]
  },
  {
   "cell_type": "code",
   "execution_count": 3,
   "id": "bcd49e60-ce74-47c1-add1-007ee22fda6d",
   "metadata": {},
   "outputs": [
    {
     "name": "stdout",
     "output_type": "stream",
     "text": [
      "35\n"
     ]
    }
   ],
   "source": [
    "a=35\n",
    "print(a)"
   ]
  },
  {
   "cell_type": "code",
   "execution_count": 4,
   "id": "0698512a-17ef-45b9-bc86-0462f0b36791",
   "metadata": {},
   "outputs": [
    {
     "data": {
      "text/plain": [
       "int"
      ]
     },
     "execution_count": 4,
     "metadata": {},
     "output_type": "execute_result"
    }
   ],
   "source": [
    "type(a)"
   ]
  },
  {
   "cell_type": "code",
   "execution_count": 8,
   "id": "fbf17950-f18e-40f1-acdc-33365adda466",
   "metadata": {},
   "outputs": [
    {
     "data": {
      "text/plain": [
       "1"
      ]
     },
     "execution_count": 8,
     "metadata": {},
     "output_type": "execute_result"
    }
   ],
   "source": [
    "# access the data\n",
    "\n",
    "l[0]"
   ]
  },
  {
   "cell_type": "code",
   "execution_count": 9,
   "id": "928a6612-1644-4f31-b72b-0dd091258f6b",
   "metadata": {},
   "outputs": [
    {
     "data": {
      "text/plain": [
       "32"
      ]
     },
     "execution_count": 9,
     "metadata": {},
     "output_type": "execute_result"
    }
   ],
   "source": [
    "l[6]"
   ]
  },
  {
   "cell_type": "code",
   "execution_count": 11,
   "id": "77e1d336-18ef-49ad-ab3c-9e8d08067758",
   "metadata": {},
   "outputs": [
    {
     "data": {
      "text/plain": [
       "False"
      ]
     },
     "execution_count": 11,
     "metadata": {},
     "output_type": "execute_result"
    }
   ],
   "source": [
    "l[7]"
   ]
  },
  {
   "cell_type": "code",
   "execution_count": 12,
   "id": "ab59e164-ad80-4486-9598-fd9d5b67d9f6",
   "metadata": {},
   "outputs": [
    {
     "data": {
      "text/plain": [
       "32"
      ]
     },
     "execution_count": 12,
     "metadata": {},
     "output_type": "execute_result"
    }
   ],
   "source": [
    "l[-1]"
   ]
  },
  {
   "cell_type": "code",
   "execution_count": 14,
   "id": "349e78bf-5da6-4a4c-a731-df9579728662",
   "metadata": {},
   "outputs": [
    {
     "name": "stdout",
     "output_type": "stream",
     "text": [
      "[1, 2, 3, 4, 5, 'anu', 32, False, 32, True]\n"
     ]
    }
   ],
   "source": [
    "l[-1] = True\n",
    "print(l)"
   ]
  },
  {
   "cell_type": "code",
   "execution_count": 15,
   "id": "f434949b-d573-4c86-a9d7-fb4c18c2f9cd",
   "metadata": {},
   "outputs": [
    {
     "data": {
      "text/plain": [
       "[1, 2, 3, 4, 5, 'anu', 32, False, 'anushka', True]"
      ]
     },
     "execution_count": 15,
     "metadata": {},
     "output_type": "execute_result"
    }
   ],
   "source": [
    "l[-2]='anushka'\n",
    "l"
   ]
  },
  {
   "cell_type": "code",
   "execution_count": null,
   "id": "ee4ed860-546d-418d-b384-0badad691e31",
   "metadata": {},
   "outputs": [],
   "source": [
    "# list slicing"
   ]
  },
  {
   "cell_type": "code",
   "execution_count": 16,
   "id": "908f81e2-f231-45e1-939a-c694d345aae8",
   "metadata": {},
   "outputs": [
    {
     "data": {
      "text/plain": [
       "[1, 2, 3, 4, 5, 'anu', 32, False, 'anushka', True]"
      ]
     },
     "execution_count": 16,
     "metadata": {},
     "output_type": "execute_result"
    }
   ],
   "source": [
    "l"
   ]
  },
  {
   "cell_type": "code",
   "execution_count": 17,
   "id": "a4037bd3-2ac6-45ec-8f27-0e615b252a77",
   "metadata": {},
   "outputs": [
    {
     "data": {
      "text/plain": [
       "[3, 4, 5, 'anu']"
      ]
     },
     "execution_count": 17,
     "metadata": {},
     "output_type": "execute_result"
    }
   ],
   "source": [
    "l[2:6]"
   ]
  },
  {
   "cell_type": "code",
   "execution_count": 19,
   "id": "8b52f5ca-4247-4cbd-9f46-3af729f5e60e",
   "metadata": {},
   "outputs": [
    {
     "data": {
      "text/plain": [
       "[3, 4, 5]"
      ]
     },
     "execution_count": 19,
     "metadata": {},
     "output_type": "execute_result"
    }
   ],
   "source": [
    "x=l[2:5]\n",
    "x"
   ]
  },
  {
   "cell_type": "code",
   "execution_count": 20,
   "id": "b4a3701d-5f57-4063-a43e-062307abcb31",
   "metadata": {},
   "outputs": [
    {
     "data": {
      "text/plain": [
       "[3, 4, 5, 'anu', 32, False, 'anushka']"
      ]
     },
     "execution_count": 20,
     "metadata": {},
     "output_type": "execute_result"
    }
   ],
   "source": [
    "l[2:-1]"
   ]
  },
  {
   "cell_type": "code",
   "execution_count": 21,
   "id": "9946e32a-0f6e-44c2-a37a-70483986f689",
   "metadata": {},
   "outputs": [
    {
     "data": {
      "text/plain": [
       "[3, 4, 5, 'anu', 32, False, 'anushka', True]"
      ]
     },
     "execution_count": 21,
     "metadata": {},
     "output_type": "execute_result"
    }
   ],
   "source": [
    "l[2:]"
   ]
  },
  {
   "cell_type": "code",
   "execution_count": 22,
   "id": "abc19465-762c-46ee-b6c9-7c7ef4368d6c",
   "metadata": {},
   "outputs": [
    {
     "data": {
      "text/plain": [
       "[1, 2, 3, 4, 5, 'anu', 32, False]"
      ]
     },
     "execution_count": 22,
     "metadata": {},
     "output_type": "execute_result"
    }
   ],
   "source": [
    "l[:-2]"
   ]
  },
  {
   "cell_type": "code",
   "execution_count": 23,
   "id": "2e485b2f-be71-4661-9696-e900f9536620",
   "metadata": {},
   "outputs": [
    {
     "data": {
      "text/plain": [
       "[1, 2, 3, 4, 5, 'anu', 32, False, 'anushka', True]"
      ]
     },
     "execution_count": 23,
     "metadata": {},
     "output_type": "execute_result"
    }
   ],
   "source": [
    "l"
   ]
  },
  {
   "cell_type": "code",
   "execution_count": 24,
   "id": "3b2e3052-249b-4e34-8912-b95c2e1f06e2",
   "metadata": {},
   "outputs": [
    {
     "data": {
      "text/plain": [
       "True"
      ]
     },
     "execution_count": 24,
     "metadata": {},
     "output_type": "execute_result"
    }
   ],
   "source": [
    "l[-1]"
   ]
  },
  {
   "cell_type": "code",
   "execution_count": 25,
   "id": "f803a994-eb83-4fbb-a483-769749bab5e2",
   "metadata": {},
   "outputs": [
    {
     "data": {
      "text/plain": [
       "'anushka'"
      ]
     },
     "execution_count": 25,
     "metadata": {},
     "output_type": "execute_result"
    }
   ],
   "source": [
    "l[-2]"
   ]
  },
  {
   "cell_type": "code",
   "execution_count": 26,
   "id": "8ef794ca-a684-48e7-b119-51301dd2db31",
   "metadata": {},
   "outputs": [
    {
     "data": {
      "text/plain": [
       "[2, 4, 'anu']"
      ]
     },
     "execution_count": 26,
     "metadata": {},
     "output_type": "execute_result"
    }
   ],
   "source": [
    "l[1:-3:2]"
   ]
  },
  {
   "cell_type": "code",
   "execution_count": 29,
   "id": "6d185742-9b99-48d5-863f-e16b3283ec81",
   "metadata": {},
   "outputs": [
    {
     "data": {
      "text/plain": [
       "[12, 23, 34, 45, 17, 12, 10, 57]"
      ]
     },
     "execution_count": 29,
     "metadata": {},
     "output_type": "execute_result"
    }
   ],
   "source": [
    "l=[12,23,34,45,17,12,10,57]\n",
    "l"
   ]
  },
  {
   "cell_type": "code",
   "execution_count": 31,
   "id": "713038fe-ea75-4edc-803a-e2f94b60523c",
   "metadata": {},
   "outputs": [
    {
     "data": {
      "text/plain": [
       "[12, 34, 17, 10]"
      ]
     },
     "execution_count": 31,
     "metadata": {},
     "output_type": "execute_result"
    }
   ],
   "source": [
    "l[::2]"
   ]
  },
  {
   "cell_type": "code",
   "execution_count": 34,
   "id": "215dc2be-32cb-44d9-9462-afb6566a9408",
   "metadata": {},
   "outputs": [
    {
     "data": {
      "text/plain": [
       "[12, 45, 67, 82, 17, 12, 10, 57]"
      ]
     },
     "execution_count": 34,
     "metadata": {},
     "output_type": "execute_result"
    }
   ],
   "source": [
    "l[1:4]=[45,67,82]\n",
    "l"
   ]
  },
  {
   "cell_type": "code",
   "execution_count": null,
   "id": "8c2f88c3-1598-4935-971b-c28a67da349c",
   "metadata": {},
   "outputs": [],
   "source": [
    "# delete the data"
   ]
  },
  {
   "cell_type": "code",
   "execution_count": 36,
   "id": "ba262a61-ff9a-40eb-b215-4a4bb3f6a7ff",
   "metadata": {},
   "outputs": [
    {
     "data": {
      "text/plain": [
       "[12, 82, 17, 12, 10, 57]"
      ]
     },
     "execution_count": 36,
     "metadata": {},
     "output_type": "execute_result"
    }
   ],
   "source": [
    "del l[1]\n",
    "l"
   ]
  },
  {
   "cell_type": "code",
   "execution_count": 40,
   "id": "025e0753-4026-482f-9190-8f54a92e8bc5",
   "metadata": {},
   "outputs": [
    {
     "ename": "NameError",
     "evalue": "name 'new' is not defined",
     "output_type": "error",
     "traceback": [
      "\u001b[1;31m---------------------------------------------------------------------------\u001b[0m",
      "\u001b[1;31mNameError\u001b[0m                                 Traceback (most recent call last)",
      "Cell \u001b[1;32mIn[40], line 3\u001b[0m\n\u001b[0;32m      1\u001b[0m new\u001b[38;5;241m=\u001b[39m[\u001b[38;5;241m34\u001b[39m,\u001b[38;5;241m32\u001b[39m,\u001b[38;5;241m56\u001b[39m]\n\u001b[0;32m      2\u001b[0m \u001b[38;5;28;01mdel\u001b[39;00m new\n\u001b[1;32m----> 3\u001b[0m new\n",
      "\u001b[1;31mNameError\u001b[0m: name 'new' is not defined"
     ]
    }
   ],
   "source": [
    "new=[34,32,56]\n",
    "del new\n",
    "new"
   ]
  },
  {
   "cell_type": "code",
   "execution_count": null,
   "id": "eef5c204-6a96-4e07-900f-204b2b1b4146",
   "metadata": {},
   "outputs": [],
   "source": [
    "#in operator"
   ]
  },
  {
   "cell_type": "code",
   "execution_count": 41,
   "id": "a3035e58-551c-4dce-8320-4eb4a0bbfb2e",
   "metadata": {},
   "outputs": [
    {
     "data": {
      "text/plain": [
       "[12, 82, 17, 12, 10, 57]"
      ]
     },
     "execution_count": 41,
     "metadata": {},
     "output_type": "execute_result"
    }
   ],
   "source": [
    "l"
   ]
  },
  {
   "cell_type": "code",
   "execution_count": 42,
   "id": "bf56325c-1678-4314-9b74-0a3d973aaf21",
   "metadata": {},
   "outputs": [
    {
     "data": {
      "text/plain": [
       "True"
      ]
     },
     "execution_count": 42,
     "metadata": {},
     "output_type": "execute_result"
    }
   ],
   "source": [
    "82 in l"
   ]
  },
  {
   "cell_type": "code",
   "execution_count": 43,
   "id": "63a43135-0a8f-4a3c-889f-6e3b034b5b3f",
   "metadata": {},
   "outputs": [
    {
     "data": {
      "text/plain": [
       "False"
      ]
     },
     "execution_count": 43,
     "metadata": {},
     "output_type": "execute_result"
    }
   ],
   "source": [
    "100 in l"
   ]
  },
  {
   "cell_type": "code",
   "execution_count": null,
   "id": "60f275ad-1d7b-4806-a9b0-bf0078783470",
   "metadata": {},
   "outputs": [],
   "source": [
    "# arithmetic operator"
   ]
  },
  {
   "cell_type": "code",
   "execution_count": 46,
   "id": "2fb69b87-3100-4f7b-b2d9-0b2368739c04",
   "metadata": {},
   "outputs": [
    {
     "data": {
      "text/plain": [
       "[12, 82, 17, 12, 10, 57, 12, 82, 17, 12, 10, 57]"
      ]
     },
     "execution_count": 46,
     "metadata": {},
     "output_type": "execute_result"
    }
   ],
   "source": [
    "l*2"
   ]
  },
  {
   "cell_type": "code",
   "execution_count": 50,
   "id": "d65e01ea-0035-4ecd-9340-8b44397712d2",
   "metadata": {},
   "outputs": [
    {
     "data": {
      "text/plain": [
       "[12, 82, 17, 12, 10, 57, 12, 56]"
      ]
     },
     "execution_count": 50,
     "metadata": {},
     "output_type": "execute_result"
    }
   ],
   "source": [
    "l+[12,56]"
   ]
  },
  {
   "cell_type": "code",
   "execution_count": 51,
   "id": "c55363cf-25cb-4b42-b603-a01fbc4a2e0a",
   "metadata": {},
   "outputs": [
    {
     "data": {
      "text/plain": [
       "[12, 82, 17, 12, 10, 57]"
      ]
     },
     "execution_count": 51,
     "metadata": {},
     "output_type": "execute_result"
    }
   ],
   "source": [
    "l"
   ]
  },
  {
   "cell_type": "code",
   "execution_count": 52,
   "id": "f6b34843-386a-488b-82ac-115fe5554b22",
   "metadata": {},
   "outputs": [],
   "source": [
    "l1=[56,'anushka',44,33]"
   ]
  },
  {
   "cell_type": "code",
   "execution_count": 53,
   "id": "d7240c10-94f8-4629-bdbb-611772015cd2",
   "metadata": {},
   "outputs": [
    {
     "data": {
      "text/plain": [
       "[12, 82, 17, 12, 10, 57, 56, 'anushka', 44, 33]"
      ]
     },
     "execution_count": 53,
     "metadata": {},
     "output_type": "execute_result"
    }
   ],
   "source": [
    "l+l1"
   ]
  },
  {
   "cell_type": "code",
   "execution_count": 54,
   "id": "846c892d-3500-4ec4-b50f-eb48a944b223",
   "metadata": {},
   "outputs": [],
   "source": [
    "#### iterating over the list"
   ]
  },
  {
   "cell_type": "code",
   "execution_count": 55,
   "id": "de68b10b-4c2d-4539-8b13-26e33deb8825",
   "metadata": {},
   "outputs": [
    {
     "data": {
      "text/plain": [
       "[12, 82, 17, 12, 10, 57]"
      ]
     },
     "execution_count": 55,
     "metadata": {},
     "output_type": "execute_result"
    }
   ],
   "source": [
    "l"
   ]
  },
  {
   "cell_type": "code",
   "execution_count": 60,
   "id": "244e56f6-1a3f-4884-8c5f-b9e33fa67003",
   "metadata": {},
   "outputs": [
    {
     "name": "stdout",
     "output_type": "stream",
     "text": [
      "144 6724 289 144 100 3249 "
     ]
    }
   ],
   "source": [
    "for n in l:\n",
    "    print(n*n,end=' ')"
   ]
  },
  {
   "cell_type": "code",
   "execution_count": 64,
   "id": "963dbacf-275f-452f-8d97-1b356f3215bb",
   "metadata": {},
   "outputs": [
    {
     "name": "stdout",
     "output_type": "stream",
     "text": [
      "17\n",
      "57\n"
     ]
    }
   ],
   "source": [
    "# print odd no from list\n",
    "\n",
    "for n in l:\n",
    "    if n%2==1:\n",
    "        print(n)"
   ]
  },
  {
   "cell_type": "code",
   "execution_count": 65,
   "id": "e7a48337-c6c8-443d-b728-e0e066a85d3a",
   "metadata": {},
   "outputs": [],
   "source": [
    "##list comprehension"
   ]
  },
  {
   "cell_type": "code",
   "execution_count": 66,
   "id": "0ef1b6d2-d457-475d-9fc3-5323f02065c1",
   "metadata": {},
   "outputs": [
    {
     "data": {
      "text/plain": [
       "[12, 82, 17, 12, 10, 57]"
      ]
     },
     "execution_count": 66,
     "metadata": {},
     "output_type": "execute_result"
    }
   ],
   "source": [
    "l"
   ]
  },
  {
   "cell_type": "code",
   "execution_count": 67,
   "id": "c6ae9375-8816-4ede-9d8a-9f10a85c07ff",
   "metadata": {},
   "outputs": [],
   "source": [
    "#map"
   ]
  },
  {
   "cell_type": "code",
   "execution_count": 70,
   "id": "4e5b8e97-6aaf-4270-9b98-10f892544fff",
   "metadata": {},
   "outputs": [
    {
     "data": {
      "text/plain": [
       "[6.0, 41.0, 8.5, 6.0, 5.0, 28.5]"
      ]
     },
     "execution_count": 70,
     "metadata": {},
     "output_type": "execute_result"
    }
   ],
   "source": [
    "a=[n/2 for n in l]\n",
    "a"
   ]
  },
  {
   "cell_type": "code",
   "execution_count": 71,
   "id": "c9eb6c9b-cdcf-4bd9-99c7-b39f06adc7bf",
   "metadata": {},
   "outputs": [
    {
     "data": {
      "text/plain": [
       "type[[6.0, 41.0, 8.5, 6.0, 5.0, 28.5]]"
      ]
     },
     "execution_count": 71,
     "metadata": {},
     "output_type": "execute_result"
    }
   ],
   "source": [
    "type[a]"
   ]
  },
  {
   "cell_type": "code",
   "execution_count": 72,
   "id": "4693de94-25f7-4734-8950-753ad1ef2c46",
   "metadata": {},
   "outputs": [
    {
     "data": {
      "text/plain": [
       "list"
      ]
     },
     "execution_count": 72,
     "metadata": {},
     "output_type": "execute_result"
    }
   ],
   "source": [
    "type(a)"
   ]
  },
  {
   "cell_type": "code",
   "execution_count": 73,
   "id": "62fd6822-5d04-45fc-9bb8-c19a48d16c04",
   "metadata": {},
   "outputs": [
    {
     "data": {
      "text/plain": [
       "[144, 6724, 289, 144, 100, 3249]"
      ]
     },
     "execution_count": 73,
     "metadata": {},
     "output_type": "execute_result"
    }
   ],
   "source": [
    "[n*n for n in l]"
   ]
  },
  {
   "cell_type": "code",
   "execution_count": 74,
   "id": "c4c13cdb-5ab1-42ac-9873-a86c94a0f99b",
   "metadata": {},
   "outputs": [],
   "source": [
    "#filter"
   ]
  },
  {
   "cell_type": "code",
   "execution_count": 75,
   "id": "73a22f76-3648-4a74-8711-3aedb343f6e1",
   "metadata": {},
   "outputs": [
    {
     "data": {
      "text/plain": [
       "[12, 82, 17, 12, 10, 57]"
      ]
     },
     "execution_count": 75,
     "metadata": {},
     "output_type": "execute_result"
    }
   ],
   "source": [
    "l"
   ]
  },
  {
   "cell_type": "code",
   "execution_count": 78,
   "id": "a9a49503-27bb-4c60-8fbf-077eb33ed78b",
   "metadata": {},
   "outputs": [
    {
     "data": {
      "text/plain": [
       "[82, 57]"
      ]
     },
     "execution_count": 78,
     "metadata": {},
     "output_type": "execute_result"
    }
   ],
   "source": [
    "b=[n for n in l if n>40]\n",
    "b"
   ]
  },
  {
   "cell_type": "code",
   "execution_count": 99,
   "id": "217c3734-8d90-4470-8553-a269a26201c4",
   "metadata": {},
   "outputs": [],
   "source": [
    "names=['Anushka','swarali','fareeha','shreya','prasad','omraj','aditya','ayush']\n"
   ]
  },
  {
   "cell_type": "code",
   "execution_count": 100,
   "id": "34e3a75d-8283-44a9-8fab-6a6979fb617f",
   "metadata": {},
   "outputs": [
    {
     "data": {
      "text/plain": [
       "['aditya', 'ayush']"
      ]
     },
     "execution_count": 100,
     "metadata": {},
     "output_type": "execute_result"
    }
   ],
   "source": [
    "# list containing names which starts with 'a'\n",
    "\n",
    "[n for n in names if n.startswith('a')]"
   ]
  },
  {
   "cell_type": "code",
   "execution_count": 111,
   "id": "f5dad48e-d09a-47b3-b9d0-3680b70843f5",
   "metadata": {},
   "outputs": [
    {
     "data": {
      "text/plain": [
       "['ANUSHKA',\n",
       " 'SWARALI',\n",
       " 'FAREEHA',\n",
       " 'SHREYA',\n",
       " 'PRASAD',\n",
       " 'OMRAJ',\n",
       " 'ADITYA',\n",
       " 'AYUSH']"
      ]
     },
     "execution_count": 111,
     "metadata": {},
     "output_type": "execute_result"
    }
   ],
   "source": [
    "# get a new list with all names in uppercase\n",
    "\n",
    "[n.upper() for n in names]"
   ]
  },
  {
   "cell_type": "code",
   "execution_count": 103,
   "id": "f1a986fc-05c5-49e5-9690-6e10d4826395",
   "metadata": {},
   "outputs": [],
   "source": [
    "### empty list"
   ]
  },
  {
   "cell_type": "code",
   "execution_count": 105,
   "id": "1de5be12-96f1-4895-893f-76fb3b014d55",
   "metadata": {},
   "outputs": [],
   "source": [
    "e=[]"
   ]
  },
  {
   "cell_type": "code",
   "execution_count": 106,
   "id": "7033def8-0a09-42c9-9d26-790c2436727d",
   "metadata": {},
   "outputs": [
    {
     "data": {
      "text/plain": [
       "list"
      ]
     },
     "execution_count": 106,
     "metadata": {},
     "output_type": "execute_result"
    }
   ],
   "source": [
    "type(e)"
   ]
  },
  {
   "cell_type": "code",
   "execution_count": 107,
   "id": "257533ce-4f64-4eca-80eb-b0b50b8c1f00",
   "metadata": {},
   "outputs": [
    {
     "ename": "IndexError",
     "evalue": "list index out of range",
     "output_type": "error",
     "traceback": [
      "\u001b[1;31m---------------------------------------------------------------------------\u001b[0m",
      "\u001b[1;31mIndexError\u001b[0m                                Traceback (most recent call last)",
      "Cell \u001b[1;32mIn[107], line 1\u001b[0m\n\u001b[1;32m----> 1\u001b[0m e[\u001b[38;5;241m0\u001b[39m]\n",
      "\u001b[1;31mIndexError\u001b[0m: list index out of range"
     ]
    }
   ],
   "source": [
    "e[0]"
   ]
  },
  {
   "cell_type": "code",
   "execution_count": 123,
   "id": "ad2f529a-56fd-47a3-b362-85b4caf8d0a7",
   "metadata": {},
   "outputs": [],
   "source": [
    "e = e + [4]"
   ]
  },
  {
   "cell_type": "code",
   "execution_count": 115,
   "id": "34567f2a-383f-4345-832f-09fb5cad7182",
   "metadata": {},
   "outputs": [],
   "source": [
    "# list decomposition"
   ]
  },
  {
   "cell_type": "code",
   "execution_count": 116,
   "id": "37c50402-310f-4a95-9d65-5b9c10041c8c",
   "metadata": {},
   "outputs": [],
   "source": [
    "l1=[34,56,78]"
   ]
  },
  {
   "cell_type": "code",
   "execution_count": 117,
   "id": "c9554764-ff4a-4cdb-b9d5-6de2c96a2f5f",
   "metadata": {},
   "outputs": [],
   "source": [
    "x,y,z=l1"
   ]
  },
  {
   "cell_type": "code",
   "execution_count": 118,
   "id": "abb046a3-bfa7-47d3-abc2-53c624033e65",
   "metadata": {},
   "outputs": [
    {
     "data": {
      "text/plain": [
       "[34, 56, 78]"
      ]
     },
     "execution_count": 118,
     "metadata": {},
     "output_type": "execute_result"
    }
   ],
   "source": [
    "l1"
   ]
  },
  {
   "cell_type": "code",
   "execution_count": 119,
   "id": "bcfe2c9e-59c8-4559-987d-f42a2451a327",
   "metadata": {},
   "outputs": [
    {
     "data": {
      "text/plain": [
       "34"
      ]
     },
     "execution_count": 119,
     "metadata": {},
     "output_type": "execute_result"
    }
   ],
   "source": [
    "x"
   ]
  },
  {
   "cell_type": "code",
   "execution_count": 120,
   "id": "2613edae-781a-4dd8-835b-d4b0f6423784",
   "metadata": {},
   "outputs": [
    {
     "data": {
      "text/plain": [
       "56"
      ]
     },
     "execution_count": 120,
     "metadata": {},
     "output_type": "execute_result"
    }
   ],
   "source": [
    "y"
   ]
  },
  {
   "cell_type": "code",
   "execution_count": 121,
   "id": "15b52bb4-a62a-47b8-b881-0de4538e4a42",
   "metadata": {},
   "outputs": [
    {
     "data": {
      "text/plain": [
       "78"
      ]
     },
     "execution_count": 121,
     "metadata": {},
     "output_type": "execute_result"
    }
   ],
   "source": [
    "z"
   ]
  },
  {
   "cell_type": "code",
   "execution_count": 124,
   "id": "c82e74be-bfd9-41b3-bb57-31762b595ffe",
   "metadata": {},
   "outputs": [],
   "source": [
    "# functions"
   ]
  },
  {
   "cell_type": "code",
   "execution_count": 125,
   "id": "725e1788-b4e1-45b1-b839-4252a1e9e879",
   "metadata": {},
   "outputs": [
    {
     "data": {
      "text/plain": [
       "[12, 82, 17, 12, 10, 57]"
      ]
     },
     "execution_count": 125,
     "metadata": {},
     "output_type": "execute_result"
    }
   ],
   "source": [
    "l"
   ]
  },
  {
   "cell_type": "code",
   "execution_count": 126,
   "id": "88070843-0805-4b91-ae94-94811e1e9c09",
   "metadata": {},
   "outputs": [
    {
     "data": {
      "text/plain": [
       "6"
      ]
     },
     "execution_count": 126,
     "metadata": {},
     "output_type": "execute_result"
    }
   ],
   "source": [
    "len(l)"
   ]
  },
  {
   "cell_type": "code",
   "execution_count": 127,
   "id": "73343d8c-c4dc-4f17-8946-72315fa1ea3c",
   "metadata": {},
   "outputs": [
    {
     "data": {
      "text/plain": [
       "82"
      ]
     },
     "execution_count": 127,
     "metadata": {},
     "output_type": "execute_result"
    }
   ],
   "source": [
    "max(l)"
   ]
  },
  {
   "cell_type": "code",
   "execution_count": 128,
   "id": "535bebde-9c79-414e-9538-da38ecb71eeb",
   "metadata": {},
   "outputs": [
    {
     "data": {
      "text/plain": [
       "10"
      ]
     },
     "execution_count": 128,
     "metadata": {},
     "output_type": "execute_result"
    }
   ],
   "source": [
    "min(l)"
   ]
  },
  {
   "cell_type": "code",
   "execution_count": 129,
   "id": "5b592e28-8849-45c1-94db-8d174e44ff2c",
   "metadata": {},
   "outputs": [
    {
     "data": {
      "text/plain": [
       "190"
      ]
     },
     "execution_count": 129,
     "metadata": {},
     "output_type": "execute_result"
    }
   ],
   "source": [
    "sum(l)"
   ]
  },
  {
   "cell_type": "code",
   "execution_count": 130,
   "id": "469bbd1e-befa-4bbe-a58d-6f42fc75540c",
   "metadata": {},
   "outputs": [
    {
     "data": {
      "text/plain": [
       "[10, 12, 12, 17, 57, 82]"
      ]
     },
     "execution_count": 130,
     "metadata": {},
     "output_type": "execute_result"
    }
   ],
   "source": [
    "sorted(l)"
   ]
  },
  {
   "cell_type": "code",
   "execution_count": 132,
   "id": "65c8fb6f-9952-409e-b0af-52f532d58cad",
   "metadata": {},
   "outputs": [
    {
     "data": {
      "text/plain": [
       "[82, 57, 17, 12, 12, 10]"
      ]
     },
     "execution_count": 132,
     "metadata": {},
     "output_type": "execute_result"
    }
   ],
   "source": [
    "sorted(l,reverse=True) "
   ]
  },
  {
   "cell_type": "code",
   "execution_count": 135,
   "id": "afd4d001-bfdf-45d8-9ad8-14853304a8bd",
   "metadata": {},
   "outputs": [
    {
     "data": {
      "text/plain": [
       "['a', 'n', 'u', 's', 'h', 'k', 'a']"
      ]
     },
     "execution_count": 135,
     "metadata": {},
     "output_type": "execute_result"
    }
   ],
   "source": [
    "name='anushka'\n",
    "list(name)"
   ]
  },
  {
   "cell_type": "code",
   "execution_count": 136,
   "id": "1d98af0d-e6e3-4af5-abe3-5027ee09f24b",
   "metadata": {},
   "outputs": [],
   "source": [
    "#methods on list"
   ]
  },
  {
   "cell_type": "code",
   "execution_count": 137,
   "id": "c5dd0ed7-c20d-4c26-8449-f469b302c805",
   "metadata": {},
   "outputs": [
    {
     "data": {
      "text/plain": [
       "[12, 82, 17, 12, 10, 57]"
      ]
     },
     "execution_count": 137,
     "metadata": {},
     "output_type": "execute_result"
    }
   ],
   "source": [
    "l"
   ]
  },
  {
   "cell_type": "code",
   "execution_count": 138,
   "id": "b1755feb-9f63-45da-b6d7-64fc4a5f9c1b",
   "metadata": {},
   "outputs": [],
   "source": [
    "l.append(100)"
   ]
  },
  {
   "cell_type": "code",
   "execution_count": 139,
   "id": "313d121e-2d2d-4449-a1e4-ff10b1d566db",
   "metadata": {},
   "outputs": [
    {
     "data": {
      "text/plain": [
       "[12, 82, 17, 12, 10, 57, 100]"
      ]
     },
     "execution_count": 139,
     "metadata": {},
     "output_type": "execute_result"
    }
   ],
   "source": [
    "l"
   ]
  },
  {
   "cell_type": "code",
   "execution_count": 140,
   "id": "8a5a4e8d-a70a-4093-a424-d0a3734a2520",
   "metadata": {},
   "outputs": [],
   "source": [
    "#append and extend"
   ]
  },
  {
   "cell_type": "code",
   "execution_count": 141,
   "id": "7ea656a1-33a6-4318-a791-4c38f1d8d3fe",
   "metadata": {},
   "outputs": [],
   "source": [
    "x=[12,23,34]\n",
    "y=[12,23,34]"
   ]
  },
  {
   "cell_type": "code",
   "execution_count": 146,
   "id": "2ecab229-90ff-4f5f-8b8b-862bd8a315ec",
   "metadata": {},
   "outputs": [],
   "source": [
    "x.append([11,22])\n",
    "y.extend([11,22])"
   ]
  },
  {
   "cell_type": "code",
   "execution_count": 149,
   "id": "866fcbf3-b9e4-4335-b0b2-bd0f337db922",
   "metadata": {},
   "outputs": [
    {
     "name": "stdout",
     "output_type": "stream",
     "text": [
      "[12, 23, 34, [11, 22], [11, 22], [11, 22]]\n",
      "[12, 23, 34, [11, 22], 11, 22, 11, 22]\n"
     ]
    }
   ],
   "source": [
    "print(x)\n",
    "print(y)"
   ]
  },
  {
   "cell_type": "code",
   "execution_count": 150,
   "id": "9e014c1b-c73c-457d-814e-f50916136eb8",
   "metadata": {},
   "outputs": [
    {
     "data": {
      "text/plain": [
       "[11, 22]"
      ]
     },
     "execution_count": 150,
     "metadata": {},
     "output_type": "execute_result"
    }
   ],
   "source": [
    "x[-1]"
   ]
  },
  {
   "cell_type": "code",
   "execution_count": 151,
   "id": "65140d90-7c5f-492e-9748-6486d88cf19b",
   "metadata": {},
   "outputs": [
    {
     "data": {
      "text/plain": [
       "22"
      ]
     },
     "execution_count": 151,
     "metadata": {},
     "output_type": "execute_result"
    }
   ],
   "source": [
    "y[-1]"
   ]
  },
  {
   "cell_type": "code",
   "execution_count": 152,
   "id": "c8dfc99f-56c4-4cd3-828c-47ebf52d57e1",
   "metadata": {},
   "outputs": [
    {
     "data": {
      "text/plain": [
       "23"
      ]
     },
     "execution_count": 152,
     "metadata": {},
     "output_type": "execute_result"
    }
   ],
   "source": [
    "x[1]"
   ]
  },
  {
   "cell_type": "code",
   "execution_count": 153,
   "id": "ca19c66f-a40b-4017-9474-2f643c651ce9",
   "metadata": {},
   "outputs": [
    {
     "data": {
      "text/plain": [
       "22"
      ]
     },
     "execution_count": 153,
     "metadata": {},
     "output_type": "execute_result"
    }
   ],
   "source": [
    "x[-1][1]"
   ]
  },
  {
   "cell_type": "code",
   "execution_count": 154,
   "id": "6438de28-01f8-43c5-ab8b-184aa25bea91",
   "metadata": {},
   "outputs": [],
   "source": [
    "#insert"
   ]
  },
  {
   "cell_type": "code",
   "execution_count": 155,
   "id": "9a474675-2c49-470a-9829-d6079a41d4fe",
   "metadata": {},
   "outputs": [
    {
     "data": {
      "text/plain": [
       "[12, 82, 17, 12, 10, 57, 100]"
      ]
     },
     "execution_count": 155,
     "metadata": {},
     "output_type": "execute_result"
    }
   ],
   "source": [
    "l"
   ]
  },
  {
   "cell_type": "code",
   "execution_count": 156,
   "id": "d38a979b-74d5-4b69-9f8a-ce66db3d0602",
   "metadata": {},
   "outputs": [],
   "source": [
    "l.insert(2,78)"
   ]
  },
  {
   "cell_type": "code",
   "execution_count": 157,
   "id": "fd5f6488-eb7d-48c9-a6e6-6eba19e9fcfb",
   "metadata": {},
   "outputs": [
    {
     "data": {
      "text/plain": [
       "[12, 82, 78, 17, 12, 10, 57, 100]"
      ]
     },
     "execution_count": 157,
     "metadata": {},
     "output_type": "execute_result"
    }
   ],
   "source": [
    "l"
   ]
  },
  {
   "cell_type": "code",
   "execution_count": 158,
   "id": "cf21958c-8aef-452d-a911-89c6886df1de",
   "metadata": {},
   "outputs": [],
   "source": [
    "#remove"
   ]
  },
  {
   "cell_type": "code",
   "execution_count": 159,
   "id": "3eacd771-576f-4415-8d68-362da121bbef",
   "metadata": {},
   "outputs": [],
   "source": [
    "l.remove(78)"
   ]
  },
  {
   "cell_type": "code",
   "execution_count": 160,
   "id": "58d768b2-cfe3-4731-881f-f236aa451692",
   "metadata": {},
   "outputs": [
    {
     "data": {
      "text/plain": [
       "[12, 82, 17, 12, 10, 57, 100]"
      ]
     },
     "execution_count": 160,
     "metadata": {},
     "output_type": "execute_result"
    }
   ],
   "source": [
    "l"
   ]
  },
  {
   "cell_type": "code",
   "execution_count": 161,
   "id": "91a06c7a-25d0-4c39-8545-641a03e43e16",
   "metadata": {},
   "outputs": [
    {
     "data": {
      "text/plain": [
       "5"
      ]
     },
     "execution_count": 161,
     "metadata": {},
     "output_type": "execute_result"
    }
   ],
   "source": [
    "l.index(57)"
   ]
  },
  {
   "cell_type": "code",
   "execution_count": 163,
   "id": "8a4913a3-69b6-4993-b8ef-5f7edc08862b",
   "metadata": {},
   "outputs": [
    {
     "data": {
      "text/plain": [
       "2"
      ]
     },
     "execution_count": 163,
     "metadata": {},
     "output_type": "execute_result"
    }
   ],
   "source": [
    "l.count(12)"
   ]
  },
  {
   "cell_type": "code",
   "execution_count": 164,
   "id": "74ab77d6-4d0b-47d5-85ab-c92957541e3b",
   "metadata": {},
   "outputs": [],
   "source": [
    "# delete /pop"
   ]
  },
  {
   "cell_type": "code",
   "execution_count": 165,
   "id": "69b3e7e1-afd2-4829-adc3-f1d47d0252ac",
   "metadata": {},
   "outputs": [
    {
     "data": {
      "text/plain": [
       "100"
      ]
     },
     "execution_count": 165,
     "metadata": {},
     "output_type": "execute_result"
    }
   ],
   "source": [
    "l.pop()"
   ]
  },
  {
   "cell_type": "code",
   "execution_count": 166,
   "id": "bea760c4-78c3-41b9-be2d-f483d2fc092a",
   "metadata": {},
   "outputs": [
    {
     "data": {
      "text/plain": [
       "[12, 82, 17, 12, 10, 57]"
      ]
     },
     "execution_count": 166,
     "metadata": {},
     "output_type": "execute_result"
    }
   ],
   "source": [
    "l"
   ]
  },
  {
   "cell_type": "code",
   "execution_count": 168,
   "id": "7e0950a5-879f-43af-bd75-e05938779488",
   "metadata": {},
   "outputs": [
    {
     "data": {
      "text/plain": [
       "10"
      ]
     },
     "execution_count": 168,
     "metadata": {},
     "output_type": "execute_result"
    }
   ],
   "source": [
    "l.pop(-2)"
   ]
  },
  {
   "cell_type": "code",
   "execution_count": 169,
   "id": "dd732dd9-3c3a-4f3a-be45-c50bd4e22f78",
   "metadata": {},
   "outputs": [
    {
     "data": {
      "text/plain": [
       "[12, 82, 17, 12, 57]"
      ]
     },
     "execution_count": 169,
     "metadata": {},
     "output_type": "execute_result"
    }
   ],
   "source": [
    "l"
   ]
  },
  {
   "cell_type": "code",
   "execution_count": 170,
   "id": "c09f7d83-d1c0-4c33-960c-a125d3d98516",
   "metadata": {},
   "outputs": [
    {
     "data": {
      "text/plain": [
       "[57, 12, 17, 82, 12]"
      ]
     },
     "execution_count": 170,
     "metadata": {},
     "output_type": "execute_result"
    }
   ],
   "source": [
    "l.reverse()\n",
    "l"
   ]
  },
  {
   "cell_type": "code",
   "execution_count": 171,
   "id": "00e7602a-6456-40b1-bff0-68e00c9e9ab3",
   "metadata": {},
   "outputs": [
    {
     "data": {
      "text/plain": [
       "[12, 12, 17, 57, 82]"
      ]
     },
     "execution_count": 171,
     "metadata": {},
     "output_type": "execute_result"
    }
   ],
   "source": [
    "l.sort()\n",
    "l"
   ]
  },
  {
   "cell_type": "code",
   "execution_count": 174,
   "id": "689a58b7-f830-4e92-98d7-6a2d0aa2f704",
   "metadata": {},
   "outputs": [
    {
     "data": {
      "text/plain": [
       "[82, 57, 17, 12, 12]"
      ]
     },
     "execution_count": 174,
     "metadata": {},
     "output_type": "execute_result"
    }
   ],
   "source": [
    "l.sort(reverse= True)\n",
    "l"
   ]
  },
  {
   "cell_type": "code",
   "execution_count": 177,
   "id": "b8d03c31-e921-4445-87ce-c02e22e16b15",
   "metadata": {},
   "outputs": [],
   "source": [
    "# iterate over list print index and the value assigned to it"
   ]
  },
  {
   "cell_type": "code",
   "execution_count": 193,
   "id": "aebd2610-5fd2-4985-9daf-350f79dcb165",
   "metadata": {},
   "outputs": [
    {
     "name": "stdout",
     "output_type": "stream",
     "text": [
      "0 82\n",
      "1 57\n",
      "2 17\n",
      "3 12\n",
      "3 12\n"
     ]
    }
   ],
   "source": [
    "for n in l:\n",
    "    print(l.index(n),n)"
   ]
  },
  {
   "cell_type": "code",
   "execution_count": 191,
   "id": "66c3c679-360f-400b-a153-1d9cd6eb8eea",
   "metadata": {},
   "outputs": [],
   "source": [
    "#enumerate"
   ]
  },
  {
   "cell_type": "code",
   "execution_count": 198,
   "id": "aeb1f58c-de08-4bc0-8e31-f862d646ec8d",
   "metadata": {},
   "outputs": [
    {
     "name": "stdout",
     "output_type": "stream",
     "text": [
      "1 82\n",
      "2 57\n",
      "3 17\n",
      "4 12\n",
      "5 12\n"
     ]
    }
   ],
   "source": [
    "for index ,n in enumerate(l,1):\n",
    "    print(index,n)\n"
   ]
  },
  {
   "cell_type": "code",
   "execution_count": 200,
   "id": "4defaae6-cd3a-401f-b8ab-186ca679abf5",
   "metadata": {},
   "outputs": [],
   "source": [
    "#shallow copy"
   ]
  },
  {
   "cell_type": "code",
   "execution_count": 202,
   "id": "747e743f-e6b7-4751-948d-958cfdbcef08",
   "metadata": {},
   "outputs": [
    {
     "data": {
      "text/plain": [
       "[34, 45, 56]"
      ]
     },
     "execution_count": 202,
     "metadata": {},
     "output_type": "execute_result"
    }
   ],
   "source": [
    "l1=[34,45,56]\n",
    "l2=l1\n",
    "l2"
   ]
  },
  {
   "cell_type": "code",
   "execution_count": 203,
   "id": "2244d614-d0fd-48df-8353-7f96d6066e44",
   "metadata": {},
   "outputs": [],
   "source": [
    "l1.append(2)"
   ]
  },
  {
   "cell_type": "code",
   "execution_count": 204,
   "id": "c19bc7ca-c576-4e6a-859d-ec772ca3dde1",
   "metadata": {},
   "outputs": [
    {
     "data": {
      "text/plain": [
       "[34, 45, 56, 2]"
      ]
     },
     "execution_count": 204,
     "metadata": {},
     "output_type": "execute_result"
    }
   ],
   "source": [
    "l1"
   ]
  },
  {
   "cell_type": "code",
   "execution_count": 205,
   "id": "e85ac4e2-31a7-4c57-8eef-4a92308d77ec",
   "metadata": {},
   "outputs": [
    {
     "data": {
      "text/plain": [
       "[34, 45, 56, 2]"
      ]
     },
     "execution_count": 205,
     "metadata": {},
     "output_type": "execute_result"
    }
   ],
   "source": [
    "l2"
   ]
  },
  {
   "cell_type": "code",
   "execution_count": 209,
   "id": "688a5488-c513-45f8-a04a-29f56bac1d71",
   "metadata": {},
   "outputs": [
    {
     "data": {
      "text/plain": [
       "[34, 45, 56, 2]"
      ]
     },
     "execution_count": 209,
     "metadata": {},
     "output_type": "execute_result"
    }
   ],
   "source": [
    "l3=l1.copy()\n",
    "l3"
   ]
  },
  {
   "cell_type": "code",
   "execution_count": 210,
   "id": "e7efc958-4813-4445-af3a-113d60aba5e0",
   "metadata": {},
   "outputs": [],
   "source": [
    "l1.append(1000)"
   ]
  },
  {
   "cell_type": "code",
   "execution_count": 211,
   "id": "0e5bd6ad-9785-4222-af41-6303324d51f1",
   "metadata": {},
   "outputs": [
    {
     "data": {
      "text/plain": [
       "[34, 45, 56, 2, 1000]"
      ]
     },
     "execution_count": 211,
     "metadata": {},
     "output_type": "execute_result"
    }
   ],
   "source": [
    "l1"
   ]
  },
  {
   "cell_type": "code",
   "execution_count": 212,
   "id": "6810e9ab-efd0-4446-a310-624708f0d7d1",
   "metadata": {},
   "outputs": [
    {
     "data": {
      "text/plain": [
       "[34, 45, 56, 2, 1000]"
      ]
     },
     "execution_count": 212,
     "metadata": {},
     "output_type": "execute_result"
    }
   ],
   "source": [
    "l2"
   ]
  },
  {
   "cell_type": "code",
   "execution_count": 213,
   "id": "b67c63fd-095a-4716-bef0-7381f9f943ad",
   "metadata": {},
   "outputs": [
    {
     "data": {
      "text/plain": [
       "[34, 45, 56, 2]"
      ]
     },
     "execution_count": 213,
     "metadata": {},
     "output_type": "execute_result"
    }
   ],
   "source": [
    "l3"
   ]
  },
  {
   "cell_type": "code",
   "execution_count": 214,
   "id": "d9031526-8c68-4f81-ab43-01fa21e3ec6d",
   "metadata": {},
   "outputs": [],
   "source": [
    "l1.append([12,34])"
   ]
  },
  {
   "cell_type": "code",
   "execution_count": 215,
   "id": "bfb9de19-0970-4941-810e-8275e8da140c",
   "metadata": {},
   "outputs": [
    {
     "data": {
      "text/plain": [
       "[34, 45, 56, 2, 1000, [12, 34]]"
      ]
     },
     "execution_count": 215,
     "metadata": {},
     "output_type": "execute_result"
    }
   ],
   "source": [
    "l1"
   ]
  },
  {
   "cell_type": "code",
   "execution_count": 216,
   "id": "3f827d12-99f6-447c-9b46-3e4660b91347",
   "metadata": {},
   "outputs": [
    {
     "data": {
      "text/plain": [
       "[34, 45, 56, 2, 1000, [12, 34]]"
      ]
     },
     "execution_count": 216,
     "metadata": {},
     "output_type": "execute_result"
    }
   ],
   "source": [
    "l3=l1.copy()\n",
    "l3"
   ]
  },
  {
   "cell_type": "code",
   "execution_count": 217,
   "id": "559feaaf-292b-4c6b-a483-dc3071dbb43b",
   "metadata": {},
   "outputs": [
    {
     "data": {
      "text/plain": [
       "[34, 45, 56, 2, 1000, [12, 34], 200]"
      ]
     },
     "execution_count": 217,
     "metadata": {},
     "output_type": "execute_result"
    }
   ],
   "source": [
    "l1.append(200)\n",
    "l1"
   ]
  },
  {
   "cell_type": "code",
   "execution_count": 218,
   "id": "32585202-4bf3-43f9-9018-a2db0f16747d",
   "metadata": {},
   "outputs": [
    {
     "data": {
      "text/plain": [
       "[34, 45, 56, 2, 1000, [12, 34]]"
      ]
     },
     "execution_count": 218,
     "metadata": {},
     "output_type": "execute_result"
    }
   ],
   "source": [
    "l3"
   ]
  },
  {
   "cell_type": "code",
   "execution_count": 219,
   "id": "35d5a7bd-b946-4fee-8a0f-0b92938015f4",
   "metadata": {},
   "outputs": [
    {
     "data": {
      "text/plain": [
       "[34, 45, 56, 2, 1000, [12, 34, 1000], 200]"
      ]
     },
     "execution_count": 219,
     "metadata": {},
     "output_type": "execute_result"
    }
   ],
   "source": [
    "l1[-2].append(1000)\n",
    "l1"
   ]
  },
  {
   "cell_type": "code",
   "execution_count": 220,
   "id": "59cfe08f-79b9-4b35-845a-a44c3c8c2ba9",
   "metadata": {},
   "outputs": [
    {
     "data": {
      "text/plain": [
       "[34, 45, 56, 2, 1000, [12, 34, 1000]]"
      ]
     },
     "execution_count": 220,
     "metadata": {},
     "output_type": "execute_result"
    }
   ],
   "source": [
    "l3"
   ]
  },
  {
   "cell_type": "code",
   "execution_count": 221,
   "id": "c7bea30d-e71b-49da-a726-93ec3ad237d6",
   "metadata": {},
   "outputs": [
    {
     "data": {
      "text/plain": [
       "[34, 45, 56, 2, 1000, [12, 34, 1000], 200]"
      ]
     },
     "execution_count": 221,
     "metadata": {},
     "output_type": "execute_result"
    }
   ],
   "source": [
    "l2"
   ]
  },
  {
   "cell_type": "code",
   "execution_count": 222,
   "id": "7bcb84ce-3aee-44d7-babe-e222f12c8caf",
   "metadata": {},
   "outputs": [
    {
     "data": {
      "text/plain": [
       "[34, 45, 56, 2, 1000, [12, 34, 1000]]"
      ]
     },
     "execution_count": 222,
     "metadata": {},
     "output_type": "execute_result"
    }
   ],
   "source": [
    "l3"
   ]
  },
  {
   "cell_type": "code",
   "execution_count": 223,
   "id": "1952091a-2d5c-4273-8864-35df355c5ad5",
   "metadata": {},
   "outputs": [
    {
     "data": {
      "text/plain": [
       "[34, 45, 56, 2, 1000, [12, 34, 1000], 200]"
      ]
     },
     "execution_count": 223,
     "metadata": {},
     "output_type": "execute_result"
    }
   ],
   "source": [
    "l1"
   ]
  },
  {
   "cell_type": "code",
   "execution_count": 224,
   "id": "f558521b-3158-459b-8d4f-9a345a3d1765",
   "metadata": {},
   "outputs": [],
   "source": [
    "##tuple"
   ]
  },
  {
   "cell_type": "code",
   "execution_count": 225,
   "id": "dfbe84cc-9a44-40e9-91e9-ccd00eb835b2",
   "metadata": {},
   "outputs": [],
   "source": [
    "t=(23,45,67,12,78,23)"
   ]
  },
  {
   "cell_type": "code",
   "execution_count": 226,
   "id": "7492e0cd-ae5f-457a-baf9-fcbc299a5ee0",
   "metadata": {},
   "outputs": [
    {
     "data": {
      "text/plain": [
       "(23, 45, 67, 12, 78, 23)"
      ]
     },
     "execution_count": 226,
     "metadata": {},
     "output_type": "execute_result"
    }
   ],
   "source": [
    "t"
   ]
  },
  {
   "cell_type": "code",
   "execution_count": 227,
   "id": "d1e9b746-f3ec-473e-8153-b9a0f3a9b83b",
   "metadata": {},
   "outputs": [
    {
     "data": {
      "text/plain": [
       "tuple"
      ]
     },
     "execution_count": 227,
     "metadata": {},
     "output_type": "execute_result"
    }
   ],
   "source": [
    "type(t)"
   ]
  },
  {
   "cell_type": "code",
   "execution_count": 228,
   "id": "fe94e44e-b258-4e36-b380-d010ba667c62",
   "metadata": {},
   "outputs": [],
   "source": [
    "t1=(34,56,'anushka')"
   ]
  },
  {
   "cell_type": "code",
   "execution_count": 229,
   "id": "4d57b1ac-4d0a-4246-a456-33a86405ddd2",
   "metadata": {},
   "outputs": [
    {
     "data": {
      "text/plain": [
       "(34, 56, 'anushka')"
      ]
     },
     "execution_count": 229,
     "metadata": {},
     "output_type": "execute_result"
    }
   ],
   "source": [
    "t1"
   ]
  },
  {
   "cell_type": "code",
   "execution_count": 261,
   "id": "00f4101d-7436-4846-af9a-7420608354ad",
   "metadata": {},
   "outputs": [
    {
     "data": {
      "text/plain": [
       "56"
      ]
     },
     "execution_count": 261,
     "metadata": {},
     "output_type": "execute_result"
    }
   ],
   "source": [
    "t1[1]"
   ]
  },
  {
   "cell_type": "code",
   "execution_count": 231,
   "id": "213a5366-49f6-440f-8253-fa50933cbf28",
   "metadata": {},
   "outputs": [
    {
     "ename": "TypeError",
     "evalue": "'tuple' object does not support item assignment",
     "output_type": "error",
     "traceback": [
      "\u001b[1;31m---------------------------------------------------------------------------\u001b[0m",
      "\u001b[1;31mTypeError\u001b[0m                                 Traceback (most recent call last)",
      "Cell \u001b[1;32mIn[231], line 1\u001b[0m\n\u001b[1;32m----> 1\u001b[0m t[\u001b[38;5;241m1\u001b[39m]\u001b[38;5;241m=\u001b[39m\u001b[38;5;241m30\u001b[39m\n",
      "\u001b[1;31mTypeError\u001b[0m: 'tuple' object does not support item assignment"
     ]
    }
   ],
   "source": [
    "t[1]=30"
   ]
  },
  {
   "cell_type": "code",
   "execution_count": 232,
   "id": "a7dee98c-f1e0-4c73-8990-8e4270c2e124",
   "metadata": {},
   "outputs": [
    {
     "name": "stdout",
     "output_type": "stream",
     "text": [
      "Help on class tuple in module builtins:\n",
      "\n",
      "class tuple(object)\n",
      " |  tuple(iterable=(), /)\n",
      " |  \n",
      " |  Built-in immutable sequence.\n",
      " |  \n",
      " |  If no argument is given, the constructor returns an empty tuple.\n",
      " |  If iterable is specified the tuple is initialized from iterable's items.\n",
      " |  \n",
      " |  If the argument is a tuple, the return value is the same object.\n",
      " |  \n",
      " |  Built-in subclasses:\n",
      " |      asyncgen_hooks\n",
      " |      UnraisableHookArgs\n",
      " |  \n",
      " |  Methods defined here:\n",
      " |  \n",
      " |  __add__(self, value, /)\n",
      " |      Return self+value.\n",
      " |  \n",
      " |  __contains__(self, key, /)\n",
      " |      Return key in self.\n",
      " |  \n",
      " |  __eq__(self, value, /)\n",
      " |      Return self==value.\n",
      " |  \n",
      " |  __ge__(self, value, /)\n",
      " |      Return self>=value.\n",
      " |  \n",
      " |  __getattribute__(self, name, /)\n",
      " |      Return getattr(self, name).\n",
      " |  \n",
      " |  __getitem__(self, key, /)\n",
      " |      Return self[key].\n",
      " |  \n",
      " |  __getnewargs__(self, /)\n",
      " |  \n",
      " |  __gt__(self, value, /)\n",
      " |      Return self>value.\n",
      " |  \n",
      " |  __hash__(self, /)\n",
      " |      Return hash(self).\n",
      " |  \n",
      " |  __iter__(self, /)\n",
      " |      Implement iter(self).\n",
      " |  \n",
      " |  __le__(self, value, /)\n",
      " |      Return self<=value.\n",
      " |  \n",
      " |  __len__(self, /)\n",
      " |      Return len(self).\n",
      " |  \n",
      " |  __lt__(self, value, /)\n",
      " |      Return self<value.\n",
      " |  \n",
      " |  __mul__(self, value, /)\n",
      " |      Return self*value.\n",
      " |  \n",
      " |  __ne__(self, value, /)\n",
      " |      Return self!=value.\n",
      " |  \n",
      " |  __repr__(self, /)\n",
      " |      Return repr(self).\n",
      " |  \n",
      " |  __rmul__(self, value, /)\n",
      " |      Return value*self.\n",
      " |  \n",
      " |  count(self, value, /)\n",
      " |      Return number of occurrences of value.\n",
      " |  \n",
      " |  index(self, value, start=0, stop=9223372036854775807, /)\n",
      " |      Return first index of value.\n",
      " |      \n",
      " |      Raises ValueError if the value is not present.\n",
      " |  \n",
      " |  ----------------------------------------------------------------------\n",
      " |  Class methods defined here:\n",
      " |  \n",
      " |  __class_getitem__(...) from builtins.type\n",
      " |      See PEP 585\n",
      " |  \n",
      " |  ----------------------------------------------------------------------\n",
      " |  Static methods defined here:\n",
      " |  \n",
      " |  __new__(*args, **kwargs) from builtins.type\n",
      " |      Create and return a new object.  See help(type) for accurate signature.\n",
      "\n"
     ]
    }
   ],
   "source": [
    "help(tuple)"
   ]
  },
  {
   "cell_type": "code",
   "execution_count": 233,
   "id": "64269bbc-6520-4553-ad26-35a000fcf7b2",
   "metadata": {},
   "outputs": [
    {
     "data": {
      "text/plain": [
       "(34, 56, 'anushka')"
      ]
     },
     "execution_count": 233,
     "metadata": {},
     "output_type": "execute_result"
    }
   ],
   "source": [
    "t1"
   ]
  },
  {
   "cell_type": "code",
   "execution_count": 235,
   "id": "f4458075-c5ff-46c2-82e4-ef9c4d8d082c",
   "metadata": {},
   "outputs": [
    {
     "data": {
      "text/plain": [
       "[34, 56, 'anushka']"
      ]
     },
     "execution_count": 235,
     "metadata": {},
     "output_type": "execute_result"
    }
   ],
   "source": [
    "m=list(t1)\n",
    "m"
   ]
  },
  {
   "cell_type": "code",
   "execution_count": 236,
   "id": "e60a883c-152d-4cc7-a700-57ba6256b4a8",
   "metadata": {},
   "outputs": [
    {
     "data": {
      "text/plain": [
       "(34, 56, 'anushka')"
      ]
     },
     "execution_count": 236,
     "metadata": {},
     "output_type": "execute_result"
    }
   ],
   "source": [
    "a=tuple(m)\n",
    "a"
   ]
  },
  {
   "cell_type": "code",
   "execution_count": 238,
   "id": "3f8396de-9a88-4724-8676-fd786085a4d5",
   "metadata": {},
   "outputs": [
    {
     "ename": "NameError",
     "evalue": "name 'a' is not defined",
     "output_type": "error",
     "traceback": [
      "\u001b[1;31m---------------------------------------------------------------------------\u001b[0m",
      "\u001b[1;31mNameError\u001b[0m                                 Traceback (most recent call last)",
      "Cell \u001b[1;32mIn[238], line 1\u001b[0m\n\u001b[1;32m----> 1\u001b[0m \u001b[38;5;28;01mdel\u001b[39;00m a[\u001b[38;5;241m1\u001b[39m]\n",
      "\u001b[1;31mNameError\u001b[0m: name 'a' is not defined"
     ]
    }
   ],
   "source": [
    "del a[1]"
   ]
  },
  {
   "cell_type": "code",
   "execution_count": 239,
   "id": "90543417-8166-45d9-b94e-e0adae3e143f",
   "metadata": {},
   "outputs": [],
   "source": [
    "##set"
   ]
  },
  {
   "cell_type": "code",
   "execution_count": 244,
   "id": "1f6f6acb-c3d0-4519-baff-47152fa07886",
   "metadata": {},
   "outputs": [
    {
     "data": {
      "text/plain": [
       "{34, 45, 56, 78, 'anu'}"
      ]
     },
     "execution_count": 244,
     "metadata": {},
     "output_type": "execute_result"
    }
   ],
   "source": [
    "s={34,45,56,78,34,'anu'}\n",
    "s"
   ]
  },
  {
   "cell_type": "code",
   "execution_count": 241,
   "id": "b4e9afe3-9a87-4111-b049-7a7139a182e3",
   "metadata": {},
   "outputs": [
    {
     "data": {
      "text/plain": [
       "set"
      ]
     },
     "execution_count": 241,
     "metadata": {},
     "output_type": "execute_result"
    }
   ],
   "source": [
    "type(s)"
   ]
  },
  {
   "cell_type": "code",
   "execution_count": 243,
   "id": "4a41cc2d-575a-4e65-8d1a-d2626d1dc305",
   "metadata": {},
   "outputs": [
    {
     "ename": "TypeError",
     "evalue": "'set' object is not subscriptable",
     "output_type": "error",
     "traceback": [
      "\u001b[1;31m---------------------------------------------------------------------------\u001b[0m",
      "\u001b[1;31mTypeError\u001b[0m                                 Traceback (most recent call last)",
      "Cell \u001b[1;32mIn[243], line 1\u001b[0m\n\u001b[1;32m----> 1\u001b[0m s[\u001b[38;5;241m2\u001b[39m]\n",
      "\u001b[1;31mTypeError\u001b[0m: 'set' object is not subscriptable"
     ]
    }
   ],
   "source": [
    "s[2]"
   ]
  },
  {
   "cell_type": "code",
   "execution_count": 245,
   "id": "00f14d70-0cd5-4dc6-98d8-378f67a0b5b0",
   "metadata": {},
   "outputs": [],
   "source": [
    "s.add(45)"
   ]
  },
  {
   "cell_type": "code",
   "execution_count": 246,
   "id": "bd143a3b-13dd-405e-b39c-226a2441b298",
   "metadata": {},
   "outputs": [
    {
     "data": {
      "text/plain": [
       "{34, 45, 56, 78, 'anu'}"
      ]
     },
     "execution_count": 246,
     "metadata": {},
     "output_type": "execute_result"
    }
   ],
   "source": [
    "s"
   ]
  },
  {
   "cell_type": "code",
   "execution_count": 247,
   "id": "b85719d0-b1f5-43ee-a390-6b47fcd1b182",
   "metadata": {},
   "outputs": [],
   "source": [
    "s.add('a')"
   ]
  },
  {
   "cell_type": "code",
   "execution_count": 248,
   "id": "6d56e466-6bb3-47e9-b3d0-3797c269ddeb",
   "metadata": {},
   "outputs": [
    {
     "data": {
      "text/plain": [
       "{34, 45, 56, 78, 'a', 'anu'}"
      ]
     },
     "execution_count": 248,
     "metadata": {},
     "output_type": "execute_result"
    }
   ],
   "source": [
    "s"
   ]
  },
  {
   "cell_type": "code",
   "execution_count": 249,
   "id": "43c2c245-a3d9-42bb-9f2b-18a015a20574",
   "metadata": {},
   "outputs": [],
   "source": [
    "s1=frozenset(s)"
   ]
  },
  {
   "cell_type": "code",
   "execution_count": 250,
   "id": "4a48f0cd-56b4-4044-9794-1fee73f749d8",
   "metadata": {},
   "outputs": [
    {
     "data": {
      "text/plain": [
       "frozenset({34, 45, 56, 78, 'a', 'anu'})"
      ]
     },
     "execution_count": 250,
     "metadata": {},
     "output_type": "execute_result"
    }
   ],
   "source": [
    "s1"
   ]
  },
  {
   "cell_type": "code",
   "execution_count": 251,
   "id": "1bbf6290-9b37-43cb-9899-4a67e795bb9c",
   "metadata": {},
   "outputs": [],
   "source": [
    "###dictionary"
   ]
  },
  {
   "cell_type": "code",
   "execution_count": 252,
   "id": "71515ffc-ef74-4cea-920b-f1c1ddb7cdbf",
   "metadata": {},
   "outputs": [],
   "source": [
    "d={1:67,2:56,3:89,4:84}"
   ]
  },
  {
   "cell_type": "code",
   "execution_count": 253,
   "id": "246c8e3a-1a0b-4c66-b063-3ec92ef464cc",
   "metadata": {},
   "outputs": [
    {
     "data": {
      "text/plain": [
       "{1: 67, 2: 56, 3: 89, 4: 84}"
      ]
     },
     "execution_count": 253,
     "metadata": {},
     "output_type": "execute_result"
    }
   ],
   "source": [
    "d"
   ]
  },
  {
   "cell_type": "code",
   "execution_count": 254,
   "id": "c0ab7156-eb5e-4534-807a-281dfc519804",
   "metadata": {},
   "outputs": [
    {
     "data": {
      "text/plain": [
       "56"
      ]
     },
     "execution_count": 254,
     "metadata": {},
     "output_type": "execute_result"
    }
   ],
   "source": [
    "d[2]"
   ]
  },
  {
   "cell_type": "code",
   "execution_count": 255,
   "id": "c5f3d94f-afd1-44f3-ae04-8a1e6d310029",
   "metadata": {},
   "outputs": [
    {
     "data": {
      "text/plain": [
       "{1: 37, 2: 56, 3: 67}"
      ]
     },
     "execution_count": 255,
     "metadata": {},
     "output_type": "execute_result"
    }
   ],
   "source": [
    "d1={1:67,2:56,3:67,1:37}\n",
    "d1"
   ]
  },
  {
   "cell_type": "code",
   "execution_count": 256,
   "id": "60bd7073-f441-4df3-868e-382df8eb3d96",
   "metadata": {},
   "outputs": [],
   "source": [
    "d[3]=100"
   ]
  },
  {
   "cell_type": "code",
   "execution_count": 257,
   "id": "53278cc2-8d82-4972-8983-9b3a5433e12c",
   "metadata": {},
   "outputs": [
    {
     "data": {
      "text/plain": [
       "{1: 67, 2: 56, 3: 100, 4: 84}"
      ]
     },
     "execution_count": 257,
     "metadata": {},
     "output_type": "execute_result"
    }
   ],
   "source": [
    "d"
   ]
  },
  {
   "cell_type": "code",
   "execution_count": 258,
   "id": "ab38c2d9-e033-47fe-abd2-1bbd2b98de6c",
   "metadata": {},
   "outputs": [
    {
     "data": {
      "text/plain": [
       "{1: 67, 2: 56, 3: 100, 4: 84, 10: 78}"
      ]
     },
     "execution_count": 258,
     "metadata": {},
     "output_type": "execute_result"
    }
   ],
   "source": [
    "d[10]=78\n",
    "d"
   ]
  },
  {
   "cell_type": "code",
   "execution_count": 259,
   "id": "cc3275c2-42a2-4296-98f9-8e4b19945865",
   "metadata": {},
   "outputs": [
    {
     "data": {
      "text/plain": [
       "dict_values([67, 56, 100, 84, 78])"
      ]
     },
     "execution_count": 259,
     "metadata": {},
     "output_type": "execute_result"
    }
   ],
   "source": [
    "d.values()"
   ]
  },
  {
   "cell_type": "code",
   "execution_count": 260,
   "id": "6ed1b094-309c-4a95-9102-b03683152bd1",
   "metadata": {},
   "outputs": [
    {
     "data": {
      "text/plain": [
       "dict_keys([1, 2, 3, 4, 10])"
      ]
     },
     "execution_count": 260,
     "metadata": {},
     "output_type": "execute_result"
    }
   ],
   "source": [
    "d.keys()"
   ]
  },
  {
   "cell_type": "code",
   "execution_count": null,
   "id": "3d571df6-38ba-49ae-b6d5-f9d557ff0c10",
   "metadata": {},
   "outputs": [],
   "source": []
  }
 ],
 "metadata": {
  "kernelspec": {
   "display_name": "Python 3 (ipykernel)",
   "language": "python",
   "name": "python3"
  },
  "language_info": {
   "codemirror_mode": {
    "name": "ipython",
    "version": 3
   },
   "file_extension": ".py",
   "mimetype": "text/x-python",
   "name": "python",
   "nbconvert_exporter": "python",
   "pygments_lexer": "ipython3",
   "version": "3.11.7"
  }
 },
 "nbformat": 4,
 "nbformat_minor": 5
}
